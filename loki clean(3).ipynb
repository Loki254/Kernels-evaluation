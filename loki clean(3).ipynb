{
 "cells": [
  {
   "cell_type": "code",
   "execution_count": 1,
   "metadata": {},
   "outputs": [],
   "source": [
    "import pandas as pd\n",
    "import numpy as np\n",
    "import json\n",
    "import os\n",
    "import sys\n",
    "import time"
   ]
  },
  {
   "cell_type": "code",
   "execution_count": 2,
   "metadata": {},
   "outputs": [],
   "source": [
    "# Models used\n",
    "\n",
    "from sklearn.svm import LinearSVC, SVC\n",
    "from sklearn.neighbors import KNeighborsClassifier\n",
    "from sklearn.naive_bayes import MultinomialNB\n",
    "from sklearn.linear_model import LogisticRegression\n",
    "from sklearn.cluster import KMeans, DBSCAN\n",
    "from fcmeans import FCM\n",
    "from sklearn.discriminant_analysis import LinearDiscriminantAnalysis"
   ]
  },
  {
   "cell_type": "code",
   "execution_count": 3,
   "metadata": {},
   "outputs": [],
   "source": [
    "# Feature extraction and metrics\n",
    "\n",
    "from sklearn.preprocessing import LabelEncoder\n",
    "from sklearn.model_selection import train_test_split\n",
    "from sklearn.metrics import accuracy_score, precision_score, recall_score, f1_score, roc_curve, auc, confusion_matrix, cohen_kappa_score\n",
    "from sklearn.pipeline import Pipeline\n",
    "from sklearn.feature_selection import SelectKBest, chi2\n",
    "from sklearn.feature_extraction.text import TfidfVectorizer\n",
    "from sklearn.feature_extraction.text import CountVectorizer"
   ]
  },
  {
   "cell_type": "code",
   "execution_count": 4,
   "metadata": {},
   "outputs": [],
   "source": [
    "# Plotting\n",
    "\n",
    "import matplotlib.pyplot as plt\n",
    "import seaborn as sns\n",
    "sns.set_style('darkgrid')"
   ]
  },
  {
   "cell_type": "code",
   "execution_count": 5,
   "metadata": {},
   "outputs": [
    {
     "data": {
      "text/html": [
       "<style>.container { width:95% !important; }</style>"
      ],
      "text/plain": [
       "<IPython.core.display.HTML object>"
      ]
     },
     "metadata": {},
     "output_type": "display_data"
    }
   ],
   "source": [
    "# Display properties\n",
    "\n",
    "from IPython.core.display import display, HTML\n",
    "display(HTML(\"<style>.container { width:95% !important; }</style>\"))\n",
    "import warnings\n",
    "warnings.filterwarnings('ignore')\n",
    "pd.options.display.float_format = '{:,.2f}'.format\n",
    "%matplotlib inline"
   ]
  },
  {
   "cell_type": "code",
   "execution_count": 6,
   "metadata": {},
   "outputs": [],
   "source": [
    "# run utility functions\n",
    "\n",
    "%run nlp_utils_news.ipynb"
   ]
  },
  {
   "cell_type": "markdown",
   "metadata": {},
   "source": [
    "### Load Dataset"
   ]
  },
  {
   "cell_type": "code",
   "execution_count": 7,
   "metadata": {},
   "outputs": [
    {
     "name": "stdout",
     "output_type": "stream",
     "text": [
      "C:\\Users\\ase\\data_science\\Multi class classification loki\\mulitclass_text_class\n"
     ]
    }
   ],
   "source": [
    "data = []\n",
    "\n",
    "fileDir = os.path.dirname(os.path.abspath('__file__'))\n",
    "print(fileDir)\n",
    "\n",
    "filepath = os.path.abspath(os.path.join(fileDir, '.', 'News Classification DataSet.json'))\n",
    "for line in open(filepath, 'r'):\n",
    "    data.append(json.loads(line))\n",
    "\n",
    "content, label = [], []\n",
    "for each in data:\n",
    "    content.append(each['content'])\n",
    "    label.append(each['annotation']['label'][0])\n",
    "    \n",
    "df = pd.DataFrame([content, label]).T\n",
    "df.columns= ['content', 'label']"
   ]
  },
  {
   "cell_type": "code",
   "execution_count": 8,
   "metadata": {},
   "outputs": [
    {
     "data": {
      "text/plain": [
       "(7600, 2)"
      ]
     },
     "execution_count": 8,
     "metadata": {},
     "output_type": "execute_result"
    }
   ],
   "source": [
    "df.shape"
   ]
  },
  {
   "cell_type": "code",
   "execution_count": 9,
   "metadata": {},
   "outputs": [
    {
     "data": {
      "text/html": [
       "<div>\n",
       "<style scoped>\n",
       "    .dataframe tbody tr th:only-of-type {\n",
       "        vertical-align: middle;\n",
       "    }\n",
       "\n",
       "    .dataframe tbody tr th {\n",
       "        vertical-align: top;\n",
       "    }\n",
       "\n",
       "    .dataframe thead th {\n",
       "        text-align: right;\n",
       "    }\n",
       "</style>\n",
       "<table border=\"1\" class=\"dataframe\">\n",
       "  <thead>\n",
       "    <tr style=\"text-align: right;\">\n",
       "      <th></th>\n",
       "      <th>content</th>\n",
       "      <th>label</th>\n",
       "    </tr>\n",
       "  </thead>\n",
       "  <tbody>\n",
       "    <tr>\n",
       "      <th>0</th>\n",
       "      <td>Unions representing workers at Turner   Newall...</td>\n",
       "      <td>Business</td>\n",
       "    </tr>\n",
       "    <tr>\n",
       "      <th>1</th>\n",
       "      <td>SPACE.com - TORONTO, Canada -- A second\\team o...</td>\n",
       "      <td>SciTech</td>\n",
       "    </tr>\n",
       "    <tr>\n",
       "      <th>2</th>\n",
       "      <td>AP - A company founded by a chemistry research...</td>\n",
       "      <td>SciTech</td>\n",
       "    </tr>\n",
       "    <tr>\n",
       "      <th>3</th>\n",
       "      <td>AP - It's barely dawn when Mike Fitzpatrick st...</td>\n",
       "      <td>SciTech</td>\n",
       "    </tr>\n",
       "    <tr>\n",
       "      <th>4</th>\n",
       "      <td>AP - Southern California's smog-fighting agenc...</td>\n",
       "      <td>SciTech</td>\n",
       "    </tr>\n",
       "  </tbody>\n",
       "</table>\n",
       "</div>"
      ],
      "text/plain": [
       "                                             content     label\n",
       "0  Unions representing workers at Turner   Newall...  Business\n",
       "1  SPACE.com - TORONTO, Canada -- A second\\team o...   SciTech\n",
       "2  AP - A company founded by a chemistry research...   SciTech\n",
       "3  AP - It's barely dawn when Mike Fitzpatrick st...   SciTech\n",
       "4  AP - Southern California's smog-fighting agenc...   SciTech"
      ]
     },
     "execution_count": 9,
     "metadata": {},
     "output_type": "execute_result"
    }
   ],
   "source": [
    "#get a glimpse of the data\n",
    "\n",
    "df.head()"
   ]
  },
  {
   "cell_type": "code",
   "execution_count": 10,
   "metadata": {},
   "outputs": [
    {
     "data": {
      "text/plain": [
       "array(['Business', 'SciTech', 'Sports', 'World'], dtype=object)"
      ]
     },
     "execution_count": 10,
     "metadata": {},
     "output_type": "execute_result"
    }
   ],
   "source": [
    "#how many distinct labels are there\n",
    "\n",
    "df['label'].unique()"
   ]
  },
  {
   "cell_type": "code",
   "execution_count": 11,
   "metadata": {},
   "outputs": [
    {
     "data": {
      "text/html": [
       "<div>\n",
       "<style scoped>\n",
       "    .dataframe tbody tr th:only-of-type {\n",
       "        vertical-align: middle;\n",
       "    }\n",
       "\n",
       "    .dataframe tbody tr th {\n",
       "        vertical-align: top;\n",
       "    }\n",
       "\n",
       "    .dataframe thead th {\n",
       "        text-align: right;\n",
       "    }\n",
       "</style>\n",
       "<table border=\"1\" class=\"dataframe\">\n",
       "  <thead>\n",
       "    <tr style=\"text-align: right;\">\n",
       "      <th></th>\n",
       "      <th>content</th>\n",
       "    </tr>\n",
       "    <tr>\n",
       "      <th>label</th>\n",
       "      <th></th>\n",
       "    </tr>\n",
       "  </thead>\n",
       "  <tbody>\n",
       "    <tr>\n",
       "      <th>Business</th>\n",
       "      <td>1900</td>\n",
       "    </tr>\n",
       "    <tr>\n",
       "      <th>SciTech</th>\n",
       "      <td>1900</td>\n",
       "    </tr>\n",
       "    <tr>\n",
       "      <th>Sports</th>\n",
       "      <td>1900</td>\n",
       "    </tr>\n",
       "    <tr>\n",
       "      <th>World</th>\n",
       "      <td>1900</td>\n",
       "    </tr>\n",
       "  </tbody>\n",
       "</table>\n",
       "</div>"
      ],
      "text/plain": [
       "          content\n",
       "label            \n",
       "Business     1900\n",
       "SciTech      1900\n",
       "Sports       1900\n",
       "World        1900"
      ]
     },
     "execution_count": 11,
     "metadata": {},
     "output_type": "execute_result"
    }
   ],
   "source": [
    "#how much content is available per label\n",
    "\n",
    "df.groupby('label').count()"
   ]
  },
  {
   "cell_type": "markdown",
   "metadata": {},
   "source": [
    "### Summary of data"
   ]
  },
  {
   "cell_type": "code",
   "execution_count": 12,
   "metadata": {},
   "outputs": [
    {
     "data": {
      "text/html": [
       "<div>\n",
       "<style scoped>\n",
       "    .dataframe tbody tr th:only-of-type {\n",
       "        vertical-align: middle;\n",
       "    }\n",
       "\n",
       "    .dataframe tbody tr th {\n",
       "        vertical-align: top;\n",
       "    }\n",
       "\n",
       "    .dataframe thead th {\n",
       "        text-align: right;\n",
       "    }\n",
       "</style>\n",
       "<table border=\"1\" class=\"dataframe\">\n",
       "  <thead>\n",
       "    <tr style=\"text-align: right;\">\n",
       "      <th></th>\n",
       "      <th>content</th>\n",
       "      <th>label</th>\n",
       "      <th>clean_text</th>\n",
       "    </tr>\n",
       "  </thead>\n",
       "  <tbody>\n",
       "    <tr>\n",
       "      <th>0</th>\n",
       "      <td>Unions representing workers at Turner   Newall...</td>\n",
       "      <td>Business</td>\n",
       "      <td>[union, represent, worker, turner, newall, dis...</td>\n",
       "    </tr>\n",
       "    <tr>\n",
       "      <th>1</th>\n",
       "      <td>SPACE.com - TORONTO, Canada -- A second\\team o...</td>\n",
       "      <td>SciTech</td>\n",
       "      <td>[space.com, toronto, canada, second, team, roc...</td>\n",
       "    </tr>\n",
       "    <tr>\n",
       "      <th>2</th>\n",
       "      <td>AP - A company founded by a chemistry research...</td>\n",
       "      <td>SciTech</td>\n",
       "      <td>[company, chemistry, researcher, university, l...</td>\n",
       "    </tr>\n",
       "    <tr>\n",
       "      <th>3</th>\n",
       "      <td>AP - It's barely dawn when Mike Fitzpatrick st...</td>\n",
       "      <td>SciTech</td>\n",
       "      <td>[it is, barely, dawn, mike, fitzpatrick, start...</td>\n",
       "    </tr>\n",
       "    <tr>\n",
       "      <th>4</th>\n",
       "      <td>AP - Southern California's smog-fighting agenc...</td>\n",
       "      <td>SciTech</td>\n",
       "      <td>[southern, california's, smog-fighting, agency...</td>\n",
       "    </tr>\n",
       "  </tbody>\n",
       "</table>\n",
       "</div>"
      ],
      "text/plain": [
       "                                             content     label  \\\n",
       "0  Unions representing workers at Turner   Newall...  Business   \n",
       "1  SPACE.com - TORONTO, Canada -- A second\\team o...   SciTech   \n",
       "2  AP - A company founded by a chemistry research...   SciTech   \n",
       "3  AP - It's barely dawn when Mike Fitzpatrick st...   SciTech   \n",
       "4  AP - Southern California's smog-fighting agenc...   SciTech   \n",
       "\n",
       "                                          clean_text  \n",
       "0  [union, represent, worker, turner, newall, dis...  \n",
       "1  [space.com, toronto, canada, second, team, roc...  \n",
       "2  [company, chemistry, researcher, university, l...  \n",
       "3  [it is, barely, dawn, mike, fitzpatrick, start...  \n",
       "4  [southern, california's, smog-fighting, agency...  "
      ]
     },
     "execution_count": 12,
     "metadata": {},
     "output_type": "execute_result"
    }
   ],
   "source": [
    "#First step of cleaning\n",
    "#remove words which only serve as syntactic sugar, such as stop words\n",
    "#also lemmatize each word, while converting them to lowercase at this stage\n",
    "\n",
    "df['clean_text'] = df['content'].apply(process_text)\n",
    "df.head()"
   ]
  },
  {
   "cell_type": "code",
   "execution_count": 13,
   "metadata": {},
   "outputs": [
    {
     "data": {
      "text/html": [
       "<div>\n",
       "<style scoped>\n",
       "    .dataframe tbody tr th:only-of-type {\n",
       "        vertical-align: middle;\n",
       "    }\n",
       "\n",
       "    .dataframe tbody tr th {\n",
       "        vertical-align: top;\n",
       "    }\n",
       "\n",
       "    .dataframe thead th {\n",
       "        text-align: right;\n",
       "    }\n",
       "</style>\n",
       "<table border=\"1\" class=\"dataframe\">\n",
       "  <thead>\n",
       "    <tr style=\"text-align: right;\">\n",
       "      <th></th>\n",
       "      <th>label</th>\n",
       "      <th>word_count</th>\n",
       "    </tr>\n",
       "  </thead>\n",
       "  <tbody>\n",
       "    <tr>\n",
       "      <th>0</th>\n",
       "      <td>Business</td>\n",
       "      <td>31.36</td>\n",
       "    </tr>\n",
       "    <tr>\n",
       "      <th>1</th>\n",
       "      <td>SciTech</td>\n",
       "      <td>30.77</td>\n",
       "    </tr>\n",
       "    <tr>\n",
       "      <th>2</th>\n",
       "      <td>Sports</td>\n",
       "      <td>31.35</td>\n",
       "    </tr>\n",
       "    <tr>\n",
       "      <th>3</th>\n",
       "      <td>World</td>\n",
       "      <td>31.74</td>\n",
       "    </tr>\n",
       "  </tbody>\n",
       "</table>\n",
       "</div>"
      ],
      "text/plain": [
       "      label  word_count\n",
       "0  Business       31.36\n",
       "1   SciTech       30.77\n",
       "2    Sports       31.35\n",
       "3     World       31.74"
      ]
     },
     "execution_count": 13,
     "metadata": {},
     "output_type": "execute_result"
    }
   ],
   "source": [
    "#add a column called word count, which polls how many words appear in a piece of text\n",
    "#we then calculate the average for each label/category to see if there is any difference from that perspective\n",
    "\n",
    "df['word_count'] = df['content'].apply(word_count)\n",
    "avg_wc = df.groupby('label').mean().reset_index()\n",
    "avg_wc[['label','word_count']]"
   ]
  },
  {
   "cell_type": "code",
   "execution_count": 14,
   "metadata": {},
   "outputs": [],
   "source": [
    "#create a separate dataframe for each category\n",
    "\n",
    "df_business = df.loc[df['label'] == 'Business'] \n",
    "df_sports = df.loc[df['label'] =='Sports']\n",
    "df_scitech = df.loc[df['label'] == 'SciTech'] \n",
    "df_world = df.loc[df['label'] =='World']"
   ]
  },
  {
   "cell_type": "code",
   "execution_count": 15,
   "metadata": {},
   "outputs": [
    {
     "data": {
      "text/html": [
       "<div>\n",
       "<style scoped>\n",
       "    .dataframe tbody tr th:only-of-type {\n",
       "        vertical-align: middle;\n",
       "    }\n",
       "\n",
       "    .dataframe tbody tr th {\n",
       "        vertical-align: top;\n",
       "    }\n",
       "\n",
       "    .dataframe thead th {\n",
       "        text-align: right;\n",
       "    }\n",
       "</style>\n",
       "<table border=\"1\" class=\"dataframe\">\n",
       "  <thead>\n",
       "    <tr style=\"text-align: right;\">\n",
       "      <th></th>\n",
       "      <th>business</th>\n",
       "      <th>count</th>\n",
       "      <th>sci tech</th>\n",
       "      <th>count</th>\n",
       "      <th>sports</th>\n",
       "      <th>count</th>\n",
       "      <th>world</th>\n",
       "      <th>count</th>\n",
       "    </tr>\n",
       "  </thead>\n",
       "  <tbody>\n",
       "    <tr>\n",
       "      <th>0</th>\n",
       "      <td>new</td>\n",
       "      <td>367</td>\n",
       "      <td>new</td>\n",
       "      <td>339</td>\n",
       "      <td>win</td>\n",
       "      <td>312</td>\n",
       "      <td>reuters</td>\n",
       "      <td>254</td>\n",
       "    </tr>\n",
       "    <tr>\n",
       "      <th>1</th>\n",
       "      <td>reuters</td>\n",
       "      <td>327</td>\n",
       "      <td>company</td>\n",
       "      <td>255</td>\n",
       "      <td>game</td>\n",
       "      <td>262</td>\n",
       "      <td>president</td>\n",
       "      <td>249</td>\n",
       "    </tr>\n",
       "    <tr>\n",
       "      <th>2</th>\n",
       "      <td>company</td>\n",
       "      <td>309</td>\n",
       "      <td>microsoft</td>\n",
       "      <td>205</td>\n",
       "      <td>team</td>\n",
       "      <td>223</td>\n",
       "      <td>kill</td>\n",
       "      <td>215</td>\n",
       "    </tr>\n",
       "    <tr>\n",
       "      <th>3</th>\n",
       "      <td>price</td>\n",
       "      <td>245</td>\n",
       "      <td>year</td>\n",
       "      <td>191</td>\n",
       "      <td>season</td>\n",
       "      <td>213</td>\n",
       "      <td>iraq</td>\n",
       "      <td>207</td>\n",
       "    </tr>\n",
       "    <tr>\n",
       "      <th>4</th>\n",
       "      <td>oil</td>\n",
       "      <td>228</td>\n",
       "      <td>software</td>\n",
       "      <td>187</td>\n",
       "      <td>new</td>\n",
       "      <td>209</td>\n",
       "      <td>minister</td>\n",
       "      <td>194</td>\n",
       "    </tr>\n",
       "    <tr>\n",
       "      <th>5</th>\n",
       "      <td>year</td>\n",
       "      <td>225</td>\n",
       "      <td>service</td>\n",
       "      <td>183</td>\n",
       "      <td>night</td>\n",
       "      <td>172</td>\n",
       "      <td>people</td>\n",
       "      <td>178</td>\n",
       "    </tr>\n",
       "    <tr>\n",
       "      <th>6</th>\n",
       "      <td>york</td>\n",
       "      <td>201</td>\n",
       "      <td>quot</td>\n",
       "      <td>174</td>\n",
       "      <td>year</td>\n",
       "      <td>169</td>\n",
       "      <td>official</td>\n",
       "      <td>167</td>\n",
       "    </tr>\n",
       "    <tr>\n",
       "      <th>7</th>\n",
       "      <td>million</td>\n",
       "      <td>180</td>\n",
       "      <td>internet</td>\n",
       "      <td>171</td>\n",
       "      <td>world</td>\n",
       "      <td>168</td>\n",
       "      <td>new</td>\n",
       "      <td>162</td>\n",
       "    </tr>\n",
       "    <tr>\n",
       "      <th>8</th>\n",
       "      <td>percent</td>\n",
       "      <td>178</td>\n",
       "      <td>computer</td>\n",
       "      <td>151</td>\n",
       "      <td>league</td>\n",
       "      <td>161</td>\n",
       "      <td>leader</td>\n",
       "      <td>153</td>\n",
       "    </tr>\n",
       "    <tr>\n",
       "      <th>9</th>\n",
       "      <td>tuesday</td>\n",
       "      <td>172</td>\n",
       "      <td>technology</td>\n",
       "      <td>144</td>\n",
       "      <td>sunday</td>\n",
       "      <td>144</td>\n",
       "      <td>monday</td>\n",
       "      <td>149</td>\n",
       "    </tr>\n",
       "    <tr>\n",
       "      <th>10</th>\n",
       "      <td>monday</td>\n",
       "      <td>168</td>\n",
       "      <td>use</td>\n",
       "      <td>135</td>\n",
       "      <td>second</td>\n",
       "      <td>143</td>\n",
       "      <td>election</td>\n",
       "      <td>148</td>\n",
       "    </tr>\n",
       "    <tr>\n",
       "      <th>11</th>\n",
       "      <td>corp</td>\n",
       "      <td>164</td>\n",
       "      <td>announce</td>\n",
       "      <td>129</td>\n",
       "      <td>quot</td>\n",
       "      <td>140</td>\n",
       "      <td>state</td>\n",
       "      <td>145</td>\n",
       "    </tr>\n",
       "    <tr>\n",
       "      <th>12</th>\n",
       "      <td>thursday</td>\n",
       "      <td>164</td>\n",
       "      <td>corp</td>\n",
       "      <td>127</td>\n",
       "      <td>champion</td>\n",
       "      <td>134</td>\n",
       "      <td>government</td>\n",
       "      <td>141</td>\n",
       "    </tr>\n",
       "    <tr>\n",
       "      <th>13</th>\n",
       "      <td>stock</td>\n",
       "      <td>159</td>\n",
       "      <td>launch</td>\n",
       "      <td>120</td>\n",
       "      <td>victory</td>\n",
       "      <td>133</td>\n",
       "      <td>tuesday</td>\n",
       "      <td>135</td>\n",
       "    </tr>\n",
       "    <tr>\n",
       "      <th>14</th>\n",
       "      <td>report</td>\n",
       "      <td>155</td>\n",
       "      <td>make</td>\n",
       "      <td>119</td>\n",
       "      <td>cup</td>\n",
       "      <td>126</td>\n",
       "      <td>prime</td>\n",
       "      <td>128</td>\n",
       "    </tr>\n",
       "    <tr>\n",
       "      <th>15</th>\n",
       "      <td>high</td>\n",
       "      <td>152</td>\n",
       "      <td>reuters</td>\n",
       "      <td>114</td>\n",
       "      <td>sport</td>\n",
       "      <td>125</td>\n",
       "      <td>thursday</td>\n",
       "      <td>126</td>\n",
       "    </tr>\n",
       "    <tr>\n",
       "      <th>16</th>\n",
       "      <td>wednesday</td>\n",
       "      <td>149</td>\n",
       "      <td>search</td>\n",
       "      <td>111</td>\n",
       "      <td>lead</td>\n",
       "      <td>122</td>\n",
       "      <td>friday</td>\n",
       "      <td>124</td>\n",
       "    </tr>\n",
       "    <tr>\n",
       "      <th>17</th>\n",
       "      <td>rise</td>\n",
       "      <td>148</td>\n",
       "      <td>plan</td>\n",
       "      <td>108</td>\n",
       "      <td>time</td>\n",
       "      <td>117</td>\n",
       "      <td>quot</td>\n",
       "      <td>124</td>\n",
       "    </tr>\n",
       "    <tr>\n",
       "      <th>18</th>\n",
       "      <td>friday</td>\n",
       "      <td>148</td>\n",
       "      <td>user</td>\n",
       "      <td>105</td>\n",
       "      <td>play</td>\n",
       "      <td>117</td>\n",
       "      <td>sunday</td>\n",
       "      <td>123</td>\n",
       "    </tr>\n",
       "    <tr>\n",
       "      <th>19</th>\n",
       "      <td>share</td>\n",
       "      <td>143</td>\n",
       "      <td>space</td>\n",
       "      <td>104</td>\n",
       "      <td>saturday</td>\n",
       "      <td>116</td>\n",
       "      <td>baghdad</td>\n",
       "      <td>123</td>\n",
       "    </tr>\n",
       "  </tbody>\n",
       "</table>\n",
       "</div>"
      ],
      "text/plain": [
       "     business count    sci tech count    sports count       world count\n",
       "0         new   367         new   339       win   312     reuters   254\n",
       "1     reuters   327     company   255      game   262   president   249\n",
       "2     company   309   microsoft   205      team   223        kill   215\n",
       "3       price   245        year   191    season   213        iraq   207\n",
       "4         oil   228    software   187       new   209    minister   194\n",
       "5        year   225     service   183     night   172      people   178\n",
       "6        york   201        quot   174      year   169    official   167\n",
       "7     million   180    internet   171     world   168         new   162\n",
       "8     percent   178    computer   151    league   161      leader   153\n",
       "9     tuesday   172  technology   144    sunday   144      monday   149\n",
       "10     monday   168         use   135    second   143    election   148\n",
       "11       corp   164    announce   129      quot   140       state   145\n",
       "12   thursday   164        corp   127  champion   134  government   141\n",
       "13      stock   159      launch   120   victory   133     tuesday   135\n",
       "14     report   155        make   119       cup   126       prime   128\n",
       "15       high   152     reuters   114     sport   125    thursday   126\n",
       "16  wednesday   149      search   111      lead   122      friday   124\n",
       "17       rise   148        plan   108      time   117        quot   124\n",
       "18     friday   148        user   105      play   117      sunday   123\n",
       "19      share   143       space   104  saturday   116     baghdad   123"
      ]
     },
     "execution_count": 15,
     "metadata": {},
     "output_type": "execute_result"
    }
   ],
   "source": [
    "#list the most appearing words for each category to see which words would carry the most weight during classification\n",
    "\n",
    "business_clean_text = word_freq(df_business['clean_text'].tolist(), 20)\n",
    "sports_clean_text = word_freq(df_sports['clean_text'].tolist(), 20)\n",
    "scitech_clean_text = word_freq(df_scitech['clean_text'].tolist(), 20)\n",
    "world_clean_text = word_freq(df_world['clean_text'].tolist(), 20)\n",
    "\n",
    "cols = ['business', 'count', 'sci tech', 'count', 'sports', 'count', 'world', 'count']\n",
    "final_df = pd.concat([business_clean_text, scitech_clean_text, sports_clean_text, world_clean_text], axis=1)\n",
    "final_df.columns = cols\n",
    "final_df"
   ]
  },
  {
   "cell_type": "code",
   "execution_count": 16,
   "metadata": {},
   "outputs": [],
   "source": [
    "#Preparing the dataframes\n",
    "#Randomly sampling business and sports to create imbalanced classes\n",
    "\n",
    "df_business = df_business.sample(n=1005, replace = True, random_state=3)\n",
    "df_sports = df_sports.sample(n=805, replace = True, random_state=3)"
   ]
  },
  {
   "cell_type": "code",
   "execution_count": 17,
   "metadata": {},
   "outputs": [
    {
     "name": "stdout",
     "output_type": "stream",
     "text": [
      "Shape is (1005, 4)\n",
      "Shape is (1900, 4)\n",
      "Shape is (805, 4)\n",
      "Shape is (1900, 4)\n"
     ]
    }
   ],
   "source": [
    "df_list = [df_business, df_scitech, df_sports, df_world]\n",
    "for i in df_list:\n",
    "    print(f'Shape is {i.shape}')"
   ]
  },
  {
   "cell_type": "code",
   "execution_count": 18,
   "metadata": {},
   "outputs": [
    {
     "data": {
      "text/plain": [
       "array(['Business', 'Sports', 'SciTech', 'World'], dtype=object)"
      ]
     },
     "metadata": {},
     "output_type": "display_data"
    }
   ],
   "source": [
    "#Holding out 5 articles from each class for prediction at the end\n",
    "\n",
    "df_business_holdout = df_business.iloc[:5]\n",
    "df_sports_holdout = df_sports.iloc[:5]\n",
    "df_scitech_holdout = df_scitech.iloc[:5]\n",
    "df_world_holdout = df_world.iloc[:5]\n",
    "\n",
    "df_business = df_business.iloc[5:]\n",
    "df_sports = df_sports.iloc[5:]\n",
    "df_scitech = df_scitech.iloc[5:]\n",
    "df_world = df_world.iloc[5:]\n",
    "\n",
    "#Appending the dfs back together\n",
    "df = pd.concat([df_business, df_sports, df_scitech, df_world])\n",
    "df_holdout = pd.concat([df_business_holdout, df_sports_holdout, df_scitech_holdout, df_world_holdout])\n",
    "\n",
    "#Turning the labels into numbers\n",
    "#LE = LabelEncoder()\n",
    "#df['label_num'] = LE.fit_transform(df['label'])\n",
    "\n",
    "#display(df.groupby(['label'])['content'].count())\n",
    "#display(df_holdout.groupby(['label'])['content'].count())\n",
    "display(df['label'].unique())\n",
    "#display(df['label_num'].unique())"
   ]
  },
  {
   "cell_type": "code",
   "execution_count": 19,
   "metadata": {},
   "outputs": [
    {
     "data": {
      "text/html": [
       "<div>\n",
       "<style scoped>\n",
       "    .dataframe tbody tr th:only-of-type {\n",
       "        vertical-align: middle;\n",
       "    }\n",
       "\n",
       "    .dataframe tbody tr th {\n",
       "        vertical-align: top;\n",
       "    }\n",
       "\n",
       "    .dataframe thead th {\n",
       "        text-align: right;\n",
       "    }\n",
       "</style>\n",
       "<table border=\"1\" class=\"dataframe\">\n",
       "  <thead>\n",
       "    <tr style=\"text-align: right;\">\n",
       "      <th></th>\n",
       "      <th>business</th>\n",
       "      <th>count</th>\n",
       "      <th>sci tech</th>\n",
       "      <th>count</th>\n",
       "      <th>sports</th>\n",
       "      <th>count</th>\n",
       "      <th>world</th>\n",
       "      <th>count</th>\n",
       "    </tr>\n",
       "  </thead>\n",
       "  <tbody>\n",
       "    <tr>\n",
       "      <th>0</th>\n",
       "      <td>company</td>\n",
       "      <td>122</td>\n",
       "      <td>new</td>\n",
       "      <td>186</td>\n",
       "      <td>win</td>\n",
       "      <td>105</td>\n",
       "      <td>monday</td>\n",
       "      <td>129</td>\n",
       "    </tr>\n",
       "    <tr>\n",
       "      <th>1</th>\n",
       "      <td>new_york</td>\n",
       "      <td>101</td>\n",
       "      <td>company</td>\n",
       "      <td>180</td>\n",
       "      <td>game</td>\n",
       "      <td>74</td>\n",
       "      <td>reuters</td>\n",
       "      <td>119</td>\n",
       "    </tr>\n",
       "    <tr>\n",
       "      <th>2</th>\n",
       "      <td>year</td>\n",
       "      <td>81</td>\n",
       "      <td>quot</td>\n",
       "      <td>132</td>\n",
       "      <td>team</td>\n",
       "      <td>74</td>\n",
       "      <td>tuesday</td>\n",
       "      <td>118</td>\n",
       "    </tr>\n",
       "    <tr>\n",
       "      <th>3</th>\n",
       "      <td>thursday</td>\n",
       "      <td>80</td>\n",
       "      <td>software</td>\n",
       "      <td>123</td>\n",
       "      <td>season</td>\n",
       "      <td>58</td>\n",
       "      <td>friday</td>\n",
       "      <td>116</td>\n",
       "    </tr>\n",
       "    <tr>\n",
       "      <th>4</th>\n",
       "      <td>reuters</td>\n",
       "      <td>75</td>\n",
       "      <td>microsoft</td>\n",
       "      <td>106</td>\n",
       "      <td>quot</td>\n",
       "      <td>56</td>\n",
       "      <td>iraq</td>\n",
       "      <td>115</td>\n",
       "    </tr>\n",
       "    <tr>\n",
       "      <th>5</th>\n",
       "      <td>friday</td>\n",
       "      <td>67</td>\n",
       "      <td>technology</td>\n",
       "      <td>106</td>\n",
       "      <td>lead</td>\n",
       "      <td>53</td>\n",
       "      <td>quot</td>\n",
       "      <td>105</td>\n",
       "    </tr>\n",
       "    <tr>\n",
       "      <th>6</th>\n",
       "      <td>monday</td>\n",
       "      <td>66</td>\n",
       "      <td>make</td>\n",
       "      <td>103</td>\n",
       "      <td>victory</td>\n",
       "      <td>47</td>\n",
       "      <td>wednesday</td>\n",
       "      <td>105</td>\n",
       "    </tr>\n",
       "    <tr>\n",
       "      <th>7</th>\n",
       "      <td>new</td>\n",
       "      <td>58</td>\n",
       "      <td>use</td>\n",
       "      <td>102</td>\n",
       "      <td>year</td>\n",
       "      <td>45</td>\n",
       "      <td>official</td>\n",
       "      <td>104</td>\n",
       "    </tr>\n",
       "    <tr>\n",
       "      <th>8</th>\n",
       "      <td>market</td>\n",
       "      <td>55</td>\n",
       "      <td>year</td>\n",
       "      <td>100</td>\n",
       "      <td>sunday</td>\n",
       "      <td>43</td>\n",
       "      <td>country</td>\n",
       "      <td>103</td>\n",
       "    </tr>\n",
       "    <tr>\n",
       "      <th>9</th>\n",
       "      <td>sale</td>\n",
       "      <td>51</td>\n",
       "      <td>reuters</td>\n",
       "      <td>100</td>\n",
       "      <td>play</td>\n",
       "      <td>40</td>\n",
       "      <td>leader</td>\n",
       "      <td>102</td>\n",
       "    </tr>\n",
       "    <tr>\n",
       "      <th>10</th>\n",
       "      <td>report</td>\n",
       "      <td>48</td>\n",
       "      <td>service</td>\n",
       "      <td>100</td>\n",
       "      <td>day</td>\n",
       "      <td>40</td>\n",
       "      <td>thursday</td>\n",
       "      <td>99</td>\n",
       "    </tr>\n",
       "    <tr>\n",
       "      <th>11</th>\n",
       "      <td>share</td>\n",
       "      <td>48</td>\n",
       "      <td>internet</td>\n",
       "      <td>88</td>\n",
       "      <td>time</td>\n",
       "      <td>40</td>\n",
       "      <td>sunday</td>\n",
       "      <td>97</td>\n",
       "    </tr>\n",
       "    <tr>\n",
       "      <th>12</th>\n",
       "      <td>stock</td>\n",
       "      <td>47</td>\n",
       "      <td>launch</td>\n",
       "      <td>83</td>\n",
       "      <td>monday</td>\n",
       "      <td>39</td>\n",
       "      <td>government</td>\n",
       "      <td>94</td>\n",
       "    </tr>\n",
       "    <tr>\n",
       "      <th>13</th>\n",
       "      <td>wednesday</td>\n",
       "      <td>47</td>\n",
       "      <td>tuesday</td>\n",
       "      <td>82</td>\n",
       "      <td>open</td>\n",
       "      <td>38</td>\n",
       "      <td>new</td>\n",
       "      <td>92</td>\n",
       "    </tr>\n",
       "    <tr>\n",
       "      <th>14</th>\n",
       "      <td>week</td>\n",
       "      <td>46</td>\n",
       "      <td>market</td>\n",
       "      <td>77</td>\n",
       "      <td>come</td>\n",
       "      <td>37</td>\n",
       "      <td>yesterday</td>\n",
       "      <td>90</td>\n",
       "    </tr>\n",
       "    <tr>\n",
       "      <th>15</th>\n",
       "      <td>yesterday</td>\n",
       "      <td>46</td>\n",
       "      <td>million</td>\n",
       "      <td>76</td>\n",
       "      <td>saturday</td>\n",
       "      <td>37</td>\n",
       "      <td>prime_minister</td>\n",
       "      <td>88</td>\n",
       "    </tr>\n",
       "    <tr>\n",
       "      <th>16</th>\n",
       "      <td>tuesday</td>\n",
       "      <td>45</td>\n",
       "      <td>week</td>\n",
       "      <td>76</td>\n",
       "      <td>make</td>\n",
       "      <td>37</td>\n",
       "      <td>group</td>\n",
       "      <td>84</td>\n",
       "    </tr>\n",
       "    <tr>\n",
       "      <th>17</th>\n",
       "      <td>oil_price</td>\n",
       "      <td>45</td>\n",
       "      <td>user</td>\n",
       "      <td>73</td>\n",
       "      <td>new_york</td>\n",
       "      <td>36</td>\n",
       "      <td>saturday</td>\n",
       "      <td>79</td>\n",
       "    </tr>\n",
       "    <tr>\n",
       "      <th>18</th>\n",
       "      <td>bank</td>\n",
       "      <td>44</td>\n",
       "      <td>monday</td>\n",
       "      <td>72</td>\n",
       "      <td>yesterday</td>\n",
       "      <td>36</td>\n",
       "      <td>report</td>\n",
       "      <td>77</td>\n",
       "    </tr>\n",
       "    <tr>\n",
       "      <th>19</th>\n",
       "      <td>price</td>\n",
       "      <td>44</td>\n",
       "      <td>product</td>\n",
       "      <td>70</td>\n",
       "      <td>player</td>\n",
       "      <td>36</td>\n",
       "      <td>day</td>\n",
       "      <td>77</td>\n",
       "    </tr>\n",
       "  </tbody>\n",
       "</table>\n",
       "</div>"
      ],
      "text/plain": [
       "     business count    sci tech count     sports count           world count\n",
       "0     company   122         new   186        win   105          monday   129\n",
       "1    new_york   101     company   180       game    74         reuters   119\n",
       "2        year    81        quot   132       team    74         tuesday   118\n",
       "3    thursday    80    software   123     season    58          friday   116\n",
       "4     reuters    75   microsoft   106       quot    56            iraq   115\n",
       "5      friday    67  technology   106       lead    53            quot   105\n",
       "6      monday    66        make   103    victory    47       wednesday   105\n",
       "7         new    58         use   102       year    45        official   104\n",
       "8      market    55        year   100     sunday    43         country   103\n",
       "9        sale    51     reuters   100       play    40          leader   102\n",
       "10     report    48     service   100        day    40        thursday    99\n",
       "11      share    48    internet    88       time    40          sunday    97\n",
       "12      stock    47      launch    83     monday    39      government    94\n",
       "13  wednesday    47     tuesday    82       open    38             new    92\n",
       "14       week    46      market    77       come    37       yesterday    90\n",
       "15  yesterday    46     million    76   saturday    37  prime_minister    88\n",
       "16    tuesday    45        week    76       make    37           group    84\n",
       "17  oil_price    45        user    73   new_york    36        saturday    79\n",
       "18       bank    44      monday    72  yesterday    36          report    77\n",
       "19      price    44     product    70     player    36             day    77"
      ]
     },
     "execution_count": 19,
     "metadata": {},
     "output_type": "execute_result"
    }
   ],
   "source": [
    "#create themost pairwisely appearing words for each category\n",
    "\n",
    "top_n = 20\n",
    "\n",
    "text_bus = df_business['clean_text'].tolist()\n",
    "text_sci_t = df_scitech['clean_text'].tolist()\n",
    "text_sports = df_sports['clean_text'].tolist()\n",
    "text_world = df_world['clean_text'].tolist()\n",
    "\n",
    "bus = word_freq_bigrams(text_bus, top_n=top_n)\n",
    "sci_t = word_freq_bigrams(text_sci_t, top_n=top_n)\n",
    "sports = word_freq_bigrams(text_sports, top_n=top_n)\n",
    "world = word_freq_bigrams(text_world, top_n=top_n)\n",
    "\n",
    "df_wf = pd.concat([bus, sci_t, sports, world], axis=1)\n",
    "df_wf1 = pd.concat([bus, sci_t, sports, world], axis=0)\n",
    "cols = ['business', 'count', 'sci tech', 'count', 'sports', 'count', 'world', 'count']\n",
    "df_wf.columns = cols\n",
    "df_wf"
   ]
  },
  {
   "cell_type": "markdown",
   "metadata": {},
   "source": [
    "#### Visualizations"
   ]
  },
  {
   "cell_type": "code",
   "execution_count": 20,
   "metadata": {},
   "outputs": [
    {
     "data": {
      "image/png": "[encoded data removed]",
      "text/plain": [
       "<Figure size 1728x1152 with 1 Axes>"
      ]
     },
     "metadata": {
      "needs_background": "light"
     },
     "output_type": "display_data"
    }
   ],
   "source": [
    "plot_wordcloud(df['clean_text'], title='Most appearing words')"
   ]
  },
  {
   "cell_type": "code",
   "execution_count": 21,
   "metadata": {},
   "outputs": [
    {
     "data": {
      "image/png": "[encoded data removed]",
      "text/plain": [
       "<Figure size 1728x1152 with 1 Axes>"
      ]
     },
     "metadata": {
      "needs_background": "light"
     },
     "output_type": "display_data"
    }
   ],
   "source": [
    "df_wf1.columns = ['Bigram', 'Frequency']\n",
    "plot_wordcloud(df_wf1['Bigram'], title=\"Bigrams\")"
   ]
  },
  {
   "cell_type": "code",
   "execution_count": 22,
   "metadata": {},
   "outputs": [
    {
     "data": {
      "image/png": "[encoded data removed]",
      "text/plain": [
       "<Figure size 864x720 with 4 Axes>"
      ]
     },
     "metadata": {
      "needs_background": "light"
     },
     "output_type": "display_data"
    }
   ],
   "source": [
    "#create dist plots for word count of each record in all categories\n",
    "\n",
    "fig, ax = plt.subplots(2, 2, figsize = (12,10))\n",
    "fig.suptitle('Distribution of Word Count by Category', fontsize=15)\n",
    "\n",
    "bins = 30\n",
    "\n",
    "ax[0, 0].hist(df_business['word_count'], bins = bins, color = '#41924F')\n",
    "ax[0, 0].set_title('Business Category', fontsize = 13)\n",
    "ax[0, 0].set_xlim(0, 150)\n",
    "\n",
    "ax[1, 0].hist(df_scitech['word_count'], bins = bins, color = '#FFC300')\n",
    "ax[1, 0].set_title('SciTech Category', fontsize = 13)\n",
    "ax[1, 0].set_xlim(0, 150)\n",
    "\n",
    "ax[0, 1].hist(df_sports['word_count'], bins = bins, color = '#a98ff3')\n",
    "ax[0, 1].set_title('Sports Category', fontsize = 13)\n",
    "ax[0, 1].set_xlim(0, 150)\n",
    "\n",
    "ax[1, 1].hist(df_world['word_count'], bins = bins, color = '#59C7EA')\n",
    "ax[1, 1].set_title('World Category', fontsize = 13)\n",
    "ax[1, 1].set_xlim(0, 150)\n",
    "\n",
    "plt.show()"
   ]
  },
  {
   "cell_type": "code",
   "execution_count": 23,
   "metadata": {},
   "outputs": [
    {
     "data": {
      "image/png": "[encoded data removed]",
      "text/plain": [
       "<Figure size 864x720 with 4 Axes>"
      ]
     },
     "metadata": {
      "needs_background": "light"
     },
     "output_type": "display_data"
    }
   ],
   "source": [
    "#create boxplots for the word count in all the categories\n",
    "\n",
    "fig, ax = plt.subplots(2, 2, figsize = (12,10))\n",
    "fig.suptitle('Category boxplots', fontsize=15)\n",
    "\n",
    "ax[0, 0].boxplot(df_business['word_count'])\n",
    "ax[0, 0].set_title('Business Category', fontsize = 13)\n",
    "\n",
    "ax[1, 0].boxplot(df_scitech['word_count'])\n",
    "ax[1, 0].set_title('SciTech Category', fontsize = 13)\n",
    "\n",
    "ax[0, 1].boxplot(df_sports['word_count'])\n",
    "ax[0, 1].set_title('Sports Category', fontsize = 13)\n",
    "\n",
    "ax[1, 1].boxplot(df_world['word_count'])\n",
    "ax[1, 1].set_title('World Category', fontsize = 13)\n",
    "\n",
    "plt.show()"
   ]
  },
  {
   "cell_type": "code",
   "execution_count": 24,
   "metadata": {},
   "outputs": [
    {
     "data": {
      "image/png": "[encoded data removed]",
      "text/plain": [
       "<Figure size 1080x576 with 1 Axes>"
      ]
     },
     "metadata": {
      "needs_background": "light"
     },
     "output_type": "display_data"
    }
   ],
   "source": [
    "final_list = []\n",
    "for l in df_business['clean_text']:\n",
    "    final_list.extend(l)\n",
    "\n",
    "dict = {}\n",
    "for word in final_list:\n",
    "    if not word in dict:\n",
    "        dict.update({word:1})\n",
    "    else:\n",
    "        dict.update({word:int(dict.get(word)+1)})\n",
    "\n",
    "to_pop = []\n",
    "for k in dict.keys():\n",
    "    if dict.get(k) < 50:\n",
    "        to_pop.append(k)\n",
    "for i in to_pop:\n",
    "    dict.pop(i)\n",
    "plt.rcParams[\"figure.figsize\"] = [15, 8]\n",
    "plt.bar(dict.keys(), dict.values())\n",
    "plt.show()"
   ]
  },
  {
   "cell_type": "code",
   "execution_count": 25,
   "metadata": {},
   "outputs": [
    {
     "data": {
      "image/png": "[encoded data removed]",
      "text/plain": [
       "<Figure size 1080x576 with 1 Axes>"
      ]
     },
     "metadata": {
      "needs_background": "light"
     },
     "output_type": "display_data"
    }
   ],
   "source": [
    "final_list = []\n",
    "for l in df_scitech['clean_text']:\n",
    "    final_list.extend(l)\n",
    "\n",
    "dict = {}\n",
    "for word in final_list:\n",
    "    if not word in dict:\n",
    "        dict.update({word:1})\n",
    "    else:\n",
    "        dict.update({word:int(dict.get(word)+1)})\n",
    "\n",
    "to_pop = []\n",
    "for k in dict.keys():\n",
    "    if dict.get(k) < 50:\n",
    "        to_pop.append(k)\n",
    "for i in to_pop:\n",
    "    dict.pop(i)\n",
    "plt.rcParams[\"figure.figsize\"] = [15, 8]\n",
    "plt.bar(dict.keys(), dict.values())\n",
    "plt.show()"
   ]
  },
  {
   "cell_type": "code",
   "execution_count": 26,
   "metadata": {},
   "outputs": [
    {
     "data": {
      "image/png": "[encoded data removed]",
      "text/plain": [
       "<Figure size 1080x576 with 1 Axes>"
      ]
     },
     "metadata": {
      "needs_background": "light"
     },
     "output_type": "display_data"
    }
   ],
   "source": [
    "final_list = []\n",
    "for l in df_sports['clean_text']:\n",
    "    final_list.extend(l)\n",
    "\n",
    "dict = {}\n",
    "for word in final_list:\n",
    "    if not word in dict:\n",
    "        dict.update({word:1})\n",
    "    else:\n",
    "        dict.update({word:int(dict.get(word)+1)})\n",
    "\n",
    "to_pop = []\n",
    "for k in dict.keys():\n",
    "    if dict.get(k) < 50:\n",
    "        to_pop.append(k)\n",
    "for i in to_pop:\n",
    "    dict.pop(i)\n",
    "plt.rcParams[\"figure.figsize\"] = [15, 8]\n",
    "plt.bar(dict.keys(), dict.values())\n",
    "plt.show()"
   ]
  },
  {
   "cell_type": "code",
   "execution_count": 27,
   "metadata": {},
   "outputs": [
    {
     "data": {
      "image/png": "[encoded data removed]",
      "text/plain": [
       "<Figure size 1080x576 with 1 Axes>"
      ]
     },
     "metadata": {
      "needs_background": "light"
     },
     "output_type": "display_data"
    }
   ],
   "source": [
    "final_list = []\n",
    "for l in df_world['clean_text']:\n",
    "    final_list.extend(l)\n",
    "\n",
    "dict = {}\n",
    "for word in final_list:\n",
    "    if not word in dict:\n",
    "        dict.update({word:1})\n",
    "    else:\n",
    "        dict.update({word:int(dict.get(word)+1)})\n",
    "\n",
    "to_pop = []\n",
    "for k in dict.keys():\n",
    "    if dict.get(k) < 50:\n",
    "        to_pop.append(k)\n",
    "for i in to_pop:\n",
    "    dict.pop(i)\n",
    "plt.rcParams[\"figure.figsize\"] = [15, 8]\n",
    "plt.bar(dict.keys(), dict.values())\n",
    "plt.show()"
   ]
  },
  {
   "cell_type": "markdown",
   "metadata": {},
   "source": [
    "### Setting up for training"
   ]
  },
  {
   "cell_type": "code",
   "execution_count": 28,
   "metadata": {},
   "outputs": [],
   "source": [
    "le = LabelEncoder()\n",
    "df['encoded_label'] = le.fit_transform(df['label'])"
   ]
  },
  {
   "cell_type": "code",
   "execution_count": 29,
   "metadata": {},
   "outputs": [],
   "source": [
    "df['clean_text_join_list'] = df['clean_text'].apply(', '.join)"
   ]
  },
  {
   "cell_type": "code",
   "execution_count": 30,
   "metadata": {},
   "outputs": [
    {
     "data": {
      "text/html": [
       "<div>\n",
       "<style scoped>\n",
       "    .dataframe tbody tr th:only-of-type {\n",
       "        vertical-align: middle;\n",
       "    }\n",
       "\n",
       "    .dataframe tbody tr th {\n",
       "        vertical-align: top;\n",
       "    }\n",
       "\n",
       "    .dataframe thead th {\n",
       "        text-align: right;\n",
       "    }\n",
       "</style>\n",
       "<table border=\"1\" class=\"dataframe\">\n",
       "  <thead>\n",
       "    <tr style=\"text-align: right;\">\n",
       "      <th></th>\n",
       "      <th>content</th>\n",
       "      <th>label</th>\n",
       "      <th>clean_text</th>\n",
       "      <th>word_count</th>\n",
       "      <th>encoded_label</th>\n",
       "      <th>clean_text_join_list</th>\n",
       "    </tr>\n",
       "  </thead>\n",
       "  <tbody>\n",
       "    <tr>\n",
       "      <th>7585</th>\n",
       "      <td>The \\$500 billion drug industry is stumbling b...</td>\n",
       "      <td>World</td>\n",
       "      <td>[billion, drug, industry, stumble, badly, core...</td>\n",
       "      <td>21</td>\n",
       "      <td>3</td>\n",
       "      <td>billion, drug, industry, stumble, badly, core,...</td>\n",
       "    </tr>\n",
       "    <tr>\n",
       "      <th>7591</th>\n",
       "      <td>Canadian Press - BANJA LUKA, Bosnia-Herzegovin...</td>\n",
       "      <td>World</td>\n",
       "      <td>[canadian, press, banja, luka, bosnia-herzegov...</td>\n",
       "      <td>47</td>\n",
       "      <td>3</td>\n",
       "      <td>canadian, press, banja, luka, bosnia-herzegovi...</td>\n",
       "    </tr>\n",
       "    <tr>\n",
       "      <th>7592</th>\n",
       "      <td>The European Union's decision to hold entry ta...</td>\n",
       "      <td>World</td>\n",
       "      <td>[european, union's, decision, hold, entry, tal...</td>\n",
       "      <td>14</td>\n",
       "      <td>3</td>\n",
       "      <td>european, union's, decision, hold, entry, talk...</td>\n",
       "    </tr>\n",
       "    <tr>\n",
       "      <th>7594</th>\n",
       "      <td>WASHINGTON -- Outgoing Secretary of State Coli...</td>\n",
       "      <td>World</td>\n",
       "      <td>[washington, outgo, secretary, state, colin, l...</td>\n",
       "      <td>49</td>\n",
       "      <td>3</td>\n",
       "      <td>washington, outgo, secretary, state, colin, l,...</td>\n",
       "    </tr>\n",
       "    <tr>\n",
       "      <th>7595</th>\n",
       "      <td>Ukrainian presidential candidate Viktor Yushch...</td>\n",
       "      <td>World</td>\n",
       "      <td>[ukrainian, presidential, candidate, viktor, y...</td>\n",
       "      <td>27</td>\n",
       "      <td>3</td>\n",
       "      <td>ukrainian, presidential, candidate, viktor, yu...</td>\n",
       "    </tr>\n",
       "  </tbody>\n",
       "</table>\n",
       "</div>"
      ],
      "text/plain": [
       "                                                content  label  \\\n",
       "7585  The \\$500 billion drug industry is stumbling b...  World   \n",
       "7591  Canadian Press - BANJA LUKA, Bosnia-Herzegovin...  World   \n",
       "7592  The European Union's decision to hold entry ta...  World   \n",
       "7594  WASHINGTON -- Outgoing Secretary of State Coli...  World   \n",
       "7595  Ukrainian presidential candidate Viktor Yushch...  World   \n",
       "\n",
       "                                             clean_text  word_count  \\\n",
       "7585  [billion, drug, industry, stumble, badly, core...          21   \n",
       "7591  [canadian, press, banja, luka, bosnia-herzegov...          47   \n",
       "7592  [european, union's, decision, hold, entry, tal...          14   \n",
       "7594  [washington, outgo, secretary, state, colin, l...          49   \n",
       "7595  [ukrainian, presidential, candidate, viktor, y...          27   \n",
       "\n",
       "      encoded_label                               clean_text_join_list  \n",
       "7585              3  billion, drug, industry, stumble, badly, core,...  \n",
       "7591              3  canadian, press, banja, luka, bosnia-herzegovi...  \n",
       "7592              3  european, union's, decision, hold, entry, talk...  \n",
       "7594              3  washington, outgo, secretary, state, colin, l,...  \n",
       "7595              3  ukrainian, presidential, candidate, viktor, yu...  "
      ]
     },
     "execution_count": 30,
     "metadata": {},
     "output_type": "execute_result"
    }
   ],
   "source": [
    "df.tail()"
   ]
  },
  {
   "cell_type": "code",
   "execution_count": 31,
   "metadata": {},
   "outputs": [
    {
     "data": {
      "text/plain": [
       "(5590, 8678)"
      ]
     },
     "execution_count": 31,
     "metadata": {},
     "output_type": "execute_result"
    }
   ],
   "source": [
    "vectorizer = TfidfVectorizer(min_df= 3, stop_words=\"english\", sublinear_tf=True, norm='l2', ngram_range=(1, 2))\n",
    "final_features = vectorizer.fit_transform(df['clean_text_join_list'])\n",
    "final_features.shape"
   ]
  },
  {
   "cell_type": "code",
   "execution_count": 32,
   "metadata": {},
   "outputs": [
    {
     "data": {
      "text/plain": [
       "(6, 6)"
      ]
     },
     "execution_count": 32,
     "metadata": {},
     "output_type": "execute_result"
    }
   ],
   "source": [
    "count_vect = CountVectorizer()\n",
    "X_train_counts = count_vect.fit_transform(df)\n",
    "X_train_counts.shape"
   ]
  },
  {
   "cell_type": "markdown",
   "metadata": {},
   "source": [
    "#### Separating Train and test data"
   ]
  },
  {
   "cell_type": "code",
   "execution_count": 33,
   "metadata": {},
   "outputs": [],
   "source": [
    "#separate train and test data\n",
    "\n",
    "X = df['clean_text_join_list']\n",
    "Y = df['encoded_label']\n",
    "validation_size = 0.70\n",
    "seed = 7\n",
    "X_train, X_validation, Y_train, Y_validation = train_test_split(X, Y, test_size=validation_size, random_state=seed)"
   ]
  },
  {
   "cell_type": "code",
   "execution_count": 34,
   "metadata": {},
   "outputs": [],
   "source": [
    "Tfidf_vect = TfidfVectorizer(max_features=5000)\n",
    "Tfidf_vect.fit(df['clean_text_join_list'])\n",
    "\n",
    "Train_X_Tfidf = Tfidf_vect.transform(X_train)\n",
    "Test_X_Tfidf = Tfidf_vect.transform(X_validation)"
   ]
  },
  {
   "cell_type": "markdown",
   "metadata": {},
   "source": [
    "### Training"
   ]
  },
  {
   "cell_type": "markdown",
   "metadata": {},
   "source": [
    "#### SVM"
   ]
  },
  {
   "cell_type": "markdown",
   "metadata": {},
   "source": [
    "##### Linear SVM"
   ]
  },
  {
   "cell_type": "code",
   "execution_count": 35,
   "metadata": {},
   "outputs": [],
   "source": [
    "pipeline = Pipeline([('vect', TfidfVectorizer(ngram_range=(1,2), stop_words ='english', sublinear_tf=True)),\n",
    "                    ('chi', SelectKBest(chi2, k=10000)),\n",
    "                    ('clf', LinearSVC(C=1.0, penalty='l1', max_iter=3000, dual=False))])\n",
    "\n",
    "linear_svm_model = pipeline.fit(X_train, Y_train)"
   ]
  },
  {
   "cell_type": "code",
   "execution_count": 36,
   "metadata": {},
   "outputs": [],
   "source": [
    "svm_vectorizer = linear_svm_model.named_steps['vect']\n",
    "chi = linear_svm_model.named_steps['chi']\n",
    "clf = linear_svm_model.named_steps['clf']"
   ]
  },
  {
   "cell_type": "code",
   "execution_count": 37,
   "metadata": {},
   "outputs": [],
   "source": [
    "feature_names = svm_vectorizer.get_feature_names()\n",
    "feature_names = [feature_names[i] for i in chi.get_support(indices = True)]\n",
    "feature_names= np.asarray(feature_names)"
   ]
  },
  {
   "cell_type": "code",
   "execution_count": 38,
   "metadata": {},
   "outputs": [
    {
     "name": "stdout",
     "output_type": "stream",
     "text": [
      "Top 10 per class\n",
      "Business : mgm bankruptcy oil discussion investment painkiller bn york reuters aircraft shareholder\n",
      "Sci tech : study moon linux version researcher internet software microsoft space scientist\n",
      "Sports : manchester bryant coach night champion sox season sport football cup\n",
      "World : darfur election death leader islamic nuclear kill president iraq minister\n"
     ]
    }
   ],
   "source": [
    "target_names = ['Business', 'Sci tech', 'Sports', 'World']\n",
    "print('Top 10 per class')\n",
    "for i, label in enumerate(target_names):\n",
    "    top10 = np.argsort(clf.coef_[i])[-10:]\n",
    "    print(f'%s : %s' %(label, ' '.join(feature_names[top10])))"
   ]
  },
  {
   "cell_type": "markdown",
   "metadata": {},
   "source": [
    "##### SVM with specific kernel functions"
   ]
  },
  {
   "cell_type": "code",
   "execution_count": 39,
   "metadata": {},
   "outputs": [
    {
     "data": {
      "text/plain": [
       "SVC(C=1.0, cache_size=200, class_weight=None, coef0=0.0,\n",
       "    decision_function_shape='ovr', degree=3, gamma='auto', kernel='linear',\n",
       "    max_iter=-1, probability=False, random_state=None, shrinking=True,\n",
       "    tol=0.001, verbose=False)"
      ]
     },
     "execution_count": 39,
     "metadata": {},
     "output_type": "execute_result"
    }
   ],
   "source": [
    "svm_auto = SVC(C=1.0, kernel='linear', gamma='auto')\n",
    "svm_auto.fit(Train_X_Tfidf,Y_train)"
   ]
  },
  {
   "cell_type": "code",
   "execution_count": 40,
   "metadata": {},
   "outputs": [],
   "source": [
    "#1e-2, 1, 1e2"
   ]
  },
  {
   "cell_type": "code",
   "execution_count": 41,
   "metadata": {},
   "outputs": [
    {
     "data": {
      "text/plain": [
       "SVC(C=1.0, cache_size=200, class_weight=None, coef0=0.0,\n",
       "    decision_function_shape='ovr', degree=3, gamma=0.01, kernel='linear',\n",
       "    max_iter=-1, probability=False, random_state=None, shrinking=True,\n",
       "    tol=0.001, verbose=False)"
      ]
     },
     "execution_count": 41,
     "metadata": {},
     "output_type": "execute_result"
    }
   ],
   "source": [
    "svm_auto_with_gamma_0 = SVC(C=1.0, kernel='linear', gamma=1e-2)\n",
    "svm_auto_with_gamma_0.fit(Train_X_Tfidf,Y_train)"
   ]
  },
  {
   "cell_type": "code",
   "execution_count": 42,
   "metadata": {},
   "outputs": [
    {
     "data": {
      "text/plain": [
       "SVC(C=1.0, cache_size=200, class_weight=None, coef0=0.0,\n",
       "    decision_function_shape='ovr', degree=3, gamma=100.0, kernel='linear',\n",
       "    max_iter=-1, probability=False, random_state=None, shrinking=True,\n",
       "    tol=0.001, verbose=False)"
      ]
     },
     "execution_count": 42,
     "metadata": {},
     "output_type": "execute_result"
    }
   ],
   "source": [
    "svm_auto_with_gamma_0_2 = SVC(C=1.0, kernel='linear', gamma=1e2)\n",
    "svm_auto_with_gamma_0_2.fit(Train_X_Tfidf,Y_train)"
   ]
  },
  {
   "cell_type": "code",
   "execution_count": 43,
   "metadata": {},
   "outputs": [
    {
     "data": {
      "text/plain": [
       "SVC(C=100, cache_size=200, class_weight=None, coef0=0.0,\n",
       "    decision_function_shape='ovr', degree=3, gamma=100.0, kernel='linear',\n",
       "    max_iter=-1, probability=False, random_state=None, shrinking=True,\n",
       "    tol=0.001, verbose=False)"
      ]
     },
     "execution_count": 43,
     "metadata": {},
     "output_type": "execute_result"
    }
   ],
   "source": [
    "svm_auto_with_gamma_0_2_cost_100 = SVC(C=100, kernel='linear', gamma=1e2)\n",
    "svm_auto_with_gamma_0_2_cost_100.fit(Train_X_Tfidf,Y_train)"
   ]
  },
  {
   "cell_type": "code",
   "execution_count": 44,
   "metadata": {},
   "outputs": [
    {
     "data": {
      "text/plain": [
       "SVC(C=1.0, cache_size=200, class_weight=None, coef0=0.0,\n",
       "    decision_function_shape='ovr', degree=3, gamma='auto', kernel='rbf',\n",
       "    max_iter=-1, probability=False, random_state=None, shrinking=True,\n",
       "    tol=0.001, verbose=False)"
      ]
     },
     "execution_count": 44,
     "metadata": {},
     "output_type": "execute_result"
    }
   ],
   "source": [
    "svm_rbf = SVC(C=1.0, kernel='rbf', gamma='auto')\n",
    "svm_rbf.fit(Train_X_Tfidf, Y_train)"
   ]
  },
  {
   "cell_type": "code",
   "execution_count": 45,
   "metadata": {},
   "outputs": [
    {
     "data": {
      "text/plain": [
       "SVC(C=1.0, cache_size=200, class_weight=None, coef0=0.0,\n",
       "    decision_function_shape='ovr', degree=3, gamma=0.01, kernel='rbf',\n",
       "    max_iter=-1, probability=False, random_state=None, shrinking=True,\n",
       "    tol=0.001, verbose=False)"
      ]
     },
     "execution_count": 45,
     "metadata": {},
     "output_type": "execute_result"
    }
   ],
   "source": [
    "svm_rbf_with_gamma_0 = SVC(C=1.0, kernel='rbf', gamma=1e-2)\n",
    "svm_rbf_with_gamma_0.fit(Train_X_Tfidf, Y_train)"
   ]
  },
  {
   "cell_type": "code",
   "execution_count": 46,
   "metadata": {},
   "outputs": [
    {
     "data": {
      "text/plain": [
       "SVC(C=1.0, cache_size=200, class_weight=None, coef0=0.0,\n",
       "    decision_function_shape='ovr', degree=3, gamma=100.0, kernel='rbf',\n",
       "    max_iter=-1, probability=False, random_state=None, shrinking=True,\n",
       "    tol=0.001, verbose=False)"
      ]
     },
     "execution_count": 46,
     "metadata": {},
     "output_type": "execute_result"
    }
   ],
   "source": [
    "svm_rbf_with_gamma_0_2 = SVC(C=1.0, kernel='rbf', gamma=1e2)\n",
    "svm_rbf_with_gamma_0_2.fit(Train_X_Tfidf, Y_train)"
   ]
  },
  {
   "cell_type": "code",
   "execution_count": 47,
   "metadata": {},
   "outputs": [
    {
     "data": {
      "text/plain": [
       "SVC(C=100, cache_size=200, class_weight=None, coef0=0.0,\n",
       "    decision_function_shape='ovr', degree=3, gamma=100.0, kernel='rbf',\n",
       "    max_iter=-1, probability=False, random_state=None, shrinking=True,\n",
       "    tol=0.001, verbose=False)"
      ]
     },
     "execution_count": 47,
     "metadata": {},
     "output_type": "execute_result"
    }
   ],
   "source": [
    "svm_rbf_with_gamma_0_2_cost_100 = SVC(C=100, kernel='rbf', gamma=1e2)\n",
    "svm_rbf_with_gamma_0_2_cost_100.fit(Train_X_Tfidf, Y_train)"
   ]
  },
  {
   "cell_type": "code",
   "execution_count": 48,
   "metadata": {},
   "outputs": [
    {
     "data": {
      "text/plain": [
       "SVC(C=1.0, cache_size=200, class_weight=None, coef0=0.0,\n",
       "    decision_function_shape='ovr', degree=3, gamma='auto', kernel='poly',\n",
       "    max_iter=-1, probability=False, random_state=None, shrinking=True,\n",
       "    tol=0.001, verbose=False)"
      ]
     },
     "execution_count": 48,
     "metadata": {},
     "output_type": "execute_result"
    }
   ],
   "source": [
    "svm_poly = SVC(C=1.0, kernel='poly', degree=3, gamma='auto')\n",
    "svm_poly.fit(Train_X_Tfidf,Y_train)"
   ]
  },
  {
   "cell_type": "code",
   "execution_count": 49,
   "metadata": {},
   "outputs": [
    {
     "data": {
      "text/plain": [
       "SVC(C=1.0, cache_size=200, class_weight=None, coef0=0.0,\n",
       "    decision_function_shape='ovr', degree=3, gamma=0.01, kernel='poly',\n",
       "    max_iter=-1, probability=False, random_state=None, shrinking=True,\n",
       "    tol=0.001, verbose=False)"
      ]
     },
     "execution_count": 49,
     "metadata": {},
     "output_type": "execute_result"
    }
   ],
   "source": [
    "svm_poly_with_gamma_0 = SVC(C=1.0, kernel='poly', degree=3, gamma=1e-2)\n",
    "svm_poly_with_gamma_0.fit(Train_X_Tfidf,Y_train)"
   ]
  },
  {
   "cell_type": "code",
   "execution_count": 50,
   "metadata": {},
   "outputs": [
    {
     "data": {
      "text/plain": [
       "SVC(C=1.0, cache_size=200, class_weight=None, coef0=0.0,\n",
       "    decision_function_shape='ovr', degree=3, gamma=100.0, kernel='poly',\n",
       "    max_iter=-1, probability=False, random_state=None, shrinking=True,\n",
       "    tol=0.001, verbose=False)"
      ]
     },
     "execution_count": 50,
     "metadata": {},
     "output_type": "execute_result"
    }
   ],
   "source": [
    "svm_poly_with_gamma_0_2 = SVC(C=1.0, kernel='poly', degree=3, gamma=1e2)\n",
    "svm_poly_with_gamma_0_2.fit(Train_X_Tfidf,Y_train)"
   ]
  },
  {
   "cell_type": "code",
   "execution_count": 51,
   "metadata": {},
   "outputs": [
    {
     "data": {
      "text/plain": [
       "SVC(C=100, cache_size=200, class_weight=None, coef0=0.0,\n",
       "    decision_function_shape='ovr', degree=3, gamma=100.0, kernel='poly',\n",
       "    max_iter=-1, probability=False, random_state=None, shrinking=True,\n",
       "    tol=0.001, verbose=False)"
      ]
     },
     "execution_count": 51,
     "metadata": {},
     "output_type": "execute_result"
    }
   ],
   "source": [
    "svm_poly_with_gamma_0_2_cost_100 = SVC(C=100, kernel='poly', degree=3, gamma=1e2)\n",
    "svm_poly_with_gamma_0_2_cost_100.fit(Train_X_Tfidf,Y_train)"
   ]
  },
  {
   "cell_type": "code",
   "execution_count": 52,
   "metadata": {},
   "outputs": [
    {
     "data": {
      "text/plain": [
       "SVC(C=1.0, cache_size=200, class_weight=None, coef0=0.0,\n",
       "    decision_function_shape='ovr', degree=3, gamma='auto', kernel='sigmoid',\n",
       "    max_iter=-1, probability=False, random_state=None, shrinking=True,\n",
       "    tol=0.001, verbose=False)"
      ]
     },
     "execution_count": 52,
     "metadata": {},
     "output_type": "execute_result"
    }
   ],
   "source": [
    "svm_sigmoid = SVC(C=1.0, kernel='sigmoid', gamma='auto')\n",
    "svm_sigmoid.fit(Train_X_Tfidf,Y_train)"
   ]
  },
  {
   "cell_type": "code",
   "execution_count": 53,
   "metadata": {},
   "outputs": [
    {
     "data": {
      "text/plain": [
       "SVC(C=1.0, cache_size=200, class_weight=None, coef0=0.0,\n",
       "    decision_function_shape='ovr', degree=3, gamma=0.01, kernel='sigmoid',\n",
       "    max_iter=-1, probability=False, random_state=None, shrinking=True,\n",
       "    tol=0.001, verbose=False)"
      ]
     },
     "execution_count": 53,
     "metadata": {},
     "output_type": "execute_result"
    }
   ],
   "source": [
    "svm_sigmoid_with_gamma_0 = SVC(C=1.0, kernel='sigmoid', gamma=1e-2)\n",
    "svm_sigmoid_with_gamma_0.fit(Train_X_Tfidf,Y_train)"
   ]
  },
  {
   "cell_type": "code",
   "execution_count": 54,
   "metadata": {},
   "outputs": [
    {
     "data": {
      "text/plain": [
       "SVC(C=1.0, cache_size=200, class_weight=None, coef0=0.0,\n",
       "    decision_function_shape='ovr', degree=3, gamma=100.0, kernel='sigmoid',\n",
       "    max_iter=-1, probability=False, random_state=None, shrinking=True,\n",
       "    tol=0.001, verbose=False)"
      ]
     },
     "execution_count": 54,
     "metadata": {},
     "output_type": "execute_result"
    }
   ],
   "source": [
    "svm_sigmoid_with_gamma_0_2 = SVC(C=1.0, kernel='sigmoid', gamma=1e2)\n",
    "svm_sigmoid_with_gamma_0_2.fit(Train_X_Tfidf,Y_train)"
   ]
  },
  {
   "cell_type": "code",
   "execution_count": 55,
   "metadata": {},
   "outputs": [
    {
     "data": {
      "text/plain": [
       "SVC(C=100, cache_size=200, class_weight=None, coef0=0.0,\n",
       "    decision_function_shape='ovr', degree=3, gamma=100.0, kernel='sigmoid',\n",
       "    max_iter=-1, probability=False, random_state=None, shrinking=True,\n",
       "    tol=0.001, verbose=False)"
      ]
     },
     "execution_count": 55,
     "metadata": {},
     "output_type": "execute_result"
    }
   ],
   "source": [
    "svm_sigmoid_with_gamma_0_2_cost_100 = SVC(C=100, kernel='sigmoid', gamma=1e2)\n",
    "svm_sigmoid_with_gamma_0_2_cost_100.fit(Train_X_Tfidf,Y_train)"
   ]
  },
  {
   "cell_type": "markdown",
   "metadata": {},
   "source": [
    "#### KNN"
   ]
  },
  {
   "cell_type": "code",
   "execution_count": 56,
   "metadata": {},
   "outputs": [
    {
     "data": {
      "text/plain": [
       "KNeighborsClassifier(algorithm='auto', leaf_size=30, metric='minkowski',\n",
       "                     metric_params=None, n_jobs=None, n_neighbors=3, p=2,\n",
       "                     weights='uniform')"
      ]
     },
     "execution_count": 56,
     "metadata": {},
     "output_type": "execute_result"
    }
   ],
   "source": [
    "knn_model = KNeighborsClassifier(n_neighbors=3)\n",
    "knn_model.fit(Train_X_Tfidf,Y_train)"
   ]
  },
  {
   "cell_type": "markdown",
   "metadata": {},
   "source": [
    "#### Naive Bayes"
   ]
  },
  {
   "cell_type": "code",
   "execution_count": 57,
   "metadata": {},
   "outputs": [
    {
     "data": {
      "text/plain": [
       "MultinomialNB(alpha=1.0, class_prior=None, fit_prior=True)"
      ]
     },
     "execution_count": 57,
     "metadata": {},
     "output_type": "execute_result"
    }
   ],
   "source": [
    "Naive = MultinomialNB()\n",
    "Naive.fit(Train_X_Tfidf,Y_train)"
   ]
  },
  {
   "cell_type": "markdown",
   "metadata": {},
   "source": [
    "#### Logistic"
   ]
  },
  {
   "cell_type": "code",
   "execution_count": 58,
   "metadata": {},
   "outputs": [
    {
     "data": {
      "text/plain": [
       "LogisticRegression(C=1.0, class_weight=None, dual=False, fit_intercept=True,\n",
       "                   intercept_scaling=1, l1_ratio=None, max_iter=100,\n",
       "                   multi_class='warn', n_jobs=None, penalty='l2',\n",
       "                   random_state=None, solver='warn', tol=0.0001, verbose=0,\n",
       "                   warm_start=False)"
      ]
     },
     "execution_count": 58,
     "metadata": {},
     "output_type": "execute_result"
    }
   ],
   "source": [
    "log_reg = LogisticRegression()\n",
    "log_reg.fit(Train_X_Tfidf,Y_train)"
   ]
  },
  {
   "cell_type": "markdown",
   "metadata": {},
   "source": [
    "#### DBSCAN"
   ]
  },
  {
   "cell_type": "code",
   "execution_count": 59,
   "metadata": {},
   "outputs": [],
   "source": [
    "#plot_clusters(data, cluster.DBSCAN, (), {'eps':0.025})\n",
    "db = DBSCAN(eps=0.3, min_samples=10).fit(Train_X_Tfidf)\n",
    "labels = db.labels_"
   ]
  },
  {
   "cell_type": "markdown",
   "metadata": {},
   "source": [
    "#### KMeans"
   ]
  },
  {
   "cell_type": "code",
   "execution_count": 60,
   "metadata": {},
   "outputs": [],
   "source": [
    "kmeans_vectorizer = TfidfVectorizer(stop_words='english')\n",
    "X = kmeans_vectorizer.fit_transform(X_train)"
   ]
  },
  {
   "cell_type": "code",
   "execution_count": 61,
   "metadata": {},
   "outputs": [],
   "source": [
    "true_k =4\n",
    "kmeans_model = KMeans(n_clusters=4, init='k-means++', max_iter=100, n_init=1).fit(X)"
   ]
  },
  {
   "cell_type": "code",
   "execution_count": 62,
   "metadata": {},
   "outputs": [
    {
     "name": "stdout",
     "output_type": "stream",
     "text": [
      "Top terms per cluster:\n",
      "Cluster 0:\n",
      "churn\n",
      "lie\n",
      "price hold\n",
      "commitment\n",
      "amit\n",
      "\n",
      "Cluster 1:\n",
      "singh golf\n",
      "new line\n",
      "extremist\n",
      "lie\n",
      "retreat\n",
      "\n",
      "Cluster 2:\n",
      "opinion\n",
      "mp\n",
      "hard drive\n",
      "human\n",
      "methane\n",
      "\n",
      "Cluster 3:\n",
      "king norodom\n",
      "putt\n",
      "muqtada\n",
      "martha stewart\n",
      "samsung\n",
      "\n"
     ]
    }
   ],
   "source": [
    "print(\"Top terms per cluster:\")\n",
    "order_centroids = kmeans_model.cluster_centers_.argsort()[:, ::-1]\n",
    "terms = vectorizer.get_feature_names()\n",
    "for i in range(true_k):\n",
    "    print(f\"Cluster {i}:\")\n",
    "    for ind in order_centroids[i, :5]:\n",
    "        print(f'{terms[ind]}')\n",
    "    print('')"
   ]
  },
  {
   "cell_type": "markdown",
   "metadata": {},
   "source": [
    "#### LDA"
   ]
  },
  {
   "cell_type": "code",
   "execution_count": 63,
   "metadata": {},
   "outputs": [
    {
     "data": {
      "text/plain": [
       "LinearDiscriminantAnalysis(n_components=4, priors=None, shrinkage=None,\n",
       "                           solver='svd', store_covariance=False, tol=0.0001)"
      ]
     },
     "execution_count": 63,
     "metadata": {},
     "output_type": "execute_result"
    }
   ],
   "source": [
    "le = LabelEncoder()\n",
    "X = le.fit_transform(X_train).reshape(-1,1)\n",
    "#Y = le.fit_transform(Y_train).reshape(-1,1)\n",
    "\n",
    "vectorizer = TfidfVectorizer(min_df=1)\n",
    "lda = LinearDiscriminantAnalysis(n_components = 4)\n",
    "lda.fit(X, Y_train)"
   ]
  },
  {
   "cell_type": "code",
   "execution_count": 64,
   "metadata": {},
   "outputs": [],
   "source": [
    "X_new = le.fit_transform(X_train)"
   ]
  },
  {
   "cell_type": "markdown",
   "metadata": {},
   "source": [
    "#### Fuzzy C-Means"
   ]
  },
  {
   "cell_type": "code",
   "execution_count": 65,
   "metadata": {},
   "outputs": [],
   "source": [
    "fcm = FCM(n_clusters=4)\n",
    "fcm.fit(X)\n",
    "\n",
    "# outputs\n",
    "fcm_centers = fcm.centers\n",
    "fcm_labels  = fcm.u.argmax(axis=1)"
   ]
  },
  {
   "cell_type": "markdown",
   "metadata": {},
   "source": [
    "### Testing and evaluation"
   ]
  },
  {
   "cell_type": "code",
   "execution_count": 66,
   "metadata": {},
   "outputs": [],
   "source": [
    "metrics_columns = ['accuracy', 'precision', 'f1-score', 'recall', 'kappa', 'time']\n",
    "perf_df = pd.DataFrame(columns=metrics_columns)\n",
    "perf_df_no_tuning = pd.DataFrame(columns=metrics_columns)"
   ]
  },
  {
   "cell_type": "markdown",
   "metadata": {},
   "source": [
    "#### SVM"
   ]
  },
  {
   "cell_type": "code",
   "execution_count": 67,
   "metadata": {},
   "outputs": [
    {
     "name": "stdout",
     "output_type": "stream",
     "text": [
      "\n",
      "Confusion matrix\n"
     ]
    },
    {
     "data": {
      "text/plain": [
       "array([[ 459,   51,    2,   52],\n",
       "       [ 181, 1174,   59,   80],\n",
       "       [   0,   10,  457,   32],\n",
       "       [  71,   81,   47, 1157]], dtype=int64)"
      ]
     },
     "execution_count": 67,
     "metadata": {},
     "output_type": "execute_result"
    }
   ],
   "source": [
    "start = time.clock()\n",
    "\n",
    "y_predicted = svm_auto.predict(Test_X_Tfidf)\n",
    "\n",
    "stop  = time.clock()\n",
    "\n",
    "precision = precision_score(y_predicted, Y_validation, average='micro')\n",
    "f_one = f1_score(y_predicted, Y_validation, average='micro')\n",
    "recall = recall_score(y_predicted, Y_validation, average='micro')\n",
    "accuracy = accuracy_score(y_predicted, Y_validation)\n",
    "kappa = cohen_kappa_score(y_predicted, Y_validation)\n",
    "test_time = stop-start\n",
    "\n",
    "\n",
    "temp_df = pd.DataFrame([accuracy, precision, f_one, recall, kappa, test_time]).T\n",
    "temp_df.columns = metrics_columns\n",
    "perf_df = pd.concat([perf_df, temp_df], axis=0)\n",
    "perf_df_no_tuning = pd.concat([perf_df_no_tuning, temp_df], axis=0)\n",
    "\n",
    "print('\\nConfusion matrix')\n",
    "confusion_matrix(y_predicted, Y_validation)"
   ]
  },
  {
   "cell_type": "code",
   "execution_count": 68,
   "metadata": {},
   "outputs": [
    {
     "name": "stdout",
     "output_type": "stream",
     "text": [
      "\n",
      "Confusion matrix\n"
     ]
    },
    {
     "data": {
      "text/plain": [
       "array([[ 459,   51,    2,   52],\n",
       "       [ 181, 1174,   59,   80],\n",
       "       [   0,   10,  457,   32],\n",
       "       [  71,   81,   47, 1157]], dtype=int64)"
      ]
     },
     "execution_count": 68,
     "metadata": {},
     "output_type": "execute_result"
    }
   ],
   "source": [
    "start = time.clock()\n",
    "\n",
    "y_predicted = svm_auto_with_gamma_0.predict(Test_X_Tfidf)\n",
    "\n",
    "stop  = time.clock()\n",
    "\n",
    "precision = precision_score(y_predicted, Y_validation, average='micro')\n",
    "f_one = f1_score(y_predicted, Y_validation, average='micro')\n",
    "recall = recall_score(y_predicted, Y_validation, average='micro')\n",
    "accuracy = accuracy_score(y_predicted, Y_validation)\n",
    "kappa = cohen_kappa_score(y_predicted, Y_validation)\n",
    "test_time = stop-start\n",
    "\n",
    "\n",
    "temp_df = pd.DataFrame([accuracy, precision, f_one, recall, kappa, test_time]).T\n",
    "temp_df.columns = metrics_columns\n",
    "perf_df = pd.concat([perf_df, temp_df], axis=0)\n",
    "\n",
    "print('\\nConfusion matrix')\n",
    "confusion_matrix(y_predicted, Y_validation)"
   ]
  },
  {
   "cell_type": "code",
   "execution_count": 69,
   "metadata": {},
   "outputs": [
    {
     "name": "stdout",
     "output_type": "stream",
     "text": [
      "\n",
      "Confusion matrix\n"
     ]
    },
    {
     "data": {
      "text/plain": [
       "array([[ 459,   51,    2,   52],\n",
       "       [ 181, 1174,   59,   80],\n",
       "       [   0,   10,  457,   32],\n",
       "       [  71,   81,   47, 1157]], dtype=int64)"
      ]
     },
     "execution_count": 69,
     "metadata": {},
     "output_type": "execute_result"
    }
   ],
   "source": [
    "start = time.clock()\n",
    "\n",
    "y_predicted = svm_auto_with_gamma_0_2.predict(Test_X_Tfidf)\n",
    "\n",
    "stop  = time.clock()\n",
    "\n",
    "precision = precision_score(y_predicted, Y_validation, average='micro')\n",
    "f_one = f1_score(y_predicted, Y_validation, average='micro')\n",
    "recall = recall_score(y_predicted, Y_validation, average='micro')\n",
    "accuracy = accuracy_score(y_predicted, Y_validation)\n",
    "kappa = cohen_kappa_score(y_predicted, Y_validation)\n",
    "test_time = stop-start\n",
    "\n",
    "\n",
    "temp_df = pd.DataFrame([accuracy, precision, f_one, recall, kappa, test_time]).T\n",
    "temp_df.columns = metrics_columns\n",
    "perf_df = pd.concat([perf_df, temp_df], axis=0)\n",
    "\n",
    "print('\\nConfusion matrix')\n",
    "confusion_matrix(y_predicted, Y_validation)"
   ]
  },
  {
   "cell_type": "code",
   "execution_count": 70,
   "metadata": {},
   "outputs": [
    {
     "name": "stdout",
     "output_type": "stream",
     "text": [
      "\n",
      "Confusion matrix\n"
     ]
    },
    {
     "data": {
      "text/plain": [
       "array([[ 494,  115,    7,   70],\n",
       "       [ 135, 1107,   45,   89],\n",
       "       [   0,   13,  458,   31],\n",
       "       [  82,   81,   55, 1131]], dtype=int64)"
      ]
     },
     "execution_count": 70,
     "metadata": {},
     "output_type": "execute_result"
    }
   ],
   "source": [
    "start = time.clock()\n",
    "\n",
    "y_predicted = svm_auto_with_gamma_0_2_cost_100.predict(Test_X_Tfidf)\n",
    "\n",
    "stop  = time.clock()\n",
    "\n",
    "precision = precision_score(y_predicted, Y_validation, average='micro')\n",
    "f_one = f1_score(y_predicted, Y_validation, average='micro')\n",
    "recall = recall_score(y_predicted, Y_validation, average='micro')\n",
    "accuracy = accuracy_score(y_predicted, Y_validation)\n",
    "kappa = cohen_kappa_score(y_predicted, Y_validation)\n",
    "test_time = stop-start\n",
    "\n",
    "\n",
    "temp_df = pd.DataFrame([accuracy, precision, f_one, recall, kappa, test_time]).T\n",
    "temp_df.columns = metrics_columns\n",
    "perf_df = pd.concat([perf_df, temp_df], axis=0)\n",
    "\n",
    "print('\\nConfusion matrix')\n",
    "confusion_matrix(y_predicted, Y_validation)"
   ]
  },
  {
   "cell_type": "code",
   "execution_count": 71,
   "metadata": {},
   "outputs": [
    {
     "name": "stdout",
     "output_type": "stream",
     "text": [
      "\n",
      "Confusion matrix\n"
     ]
    },
    {
     "data": {
      "text/plain": [
       "array([[   0,    0,    0,    0],\n",
       "       [ 711, 1316,  565, 1321],\n",
       "       [   0,    0,    0,    0],\n",
       "       [   0,    0,    0,    0]], dtype=int64)"
      ]
     },
     "execution_count": 71,
     "metadata": {},
     "output_type": "execute_result"
    }
   ],
   "source": [
    "start = time.clock()\n",
    "\n",
    "y_predicted = svm_rbf.predict(Test_X_Tfidf)\n",
    "\n",
    "stop  = time.clock()\n",
    "\n",
    "precision = precision_score(y_predicted, Y_validation, average='micro')\n",
    "f_one = f1_score(y_predicted, Y_validation, average='micro')\n",
    "recall = recall_score(y_predicted, Y_validation, average='micro')\n",
    "accuracy = accuracy_score(y_predicted, Y_validation)\n",
    "kappa = cohen_kappa_score(y_predicted, Y_validation)\n",
    "test_time = stop-start\n",
    "\n",
    "\n",
    "temp_df = pd.DataFrame([accuracy, precision, f_one, recall, kappa, test_time]).T\n",
    "temp_df.columns = metrics_columns\n",
    "perf_df = pd.concat([perf_df, temp_df], axis=0)\n",
    "\n",
    "print('\\nConfusion matrix')\n",
    "confusion_matrix(y_predicted, Y_validation)"
   ]
  },
  {
   "cell_type": "code",
   "execution_count": 72,
   "metadata": {},
   "outputs": [
    {
     "name": "stdout",
     "output_type": "stream",
     "text": [
      "\n",
      "Confusion matrix\n"
     ]
    },
    {
     "data": {
      "text/plain": [
       "array([[   0,    0,    0,    0],\n",
       "       [ 711, 1316,  565, 1321],\n",
       "       [   0,    0,    0,    0],\n",
       "       [   0,    0,    0,    0]], dtype=int64)"
      ]
     },
     "execution_count": 72,
     "metadata": {},
     "output_type": "execute_result"
    }
   ],
   "source": [
    "start = time.clock()\n",
    "\n",
    "y_predicted = svm_rbf_with_gamma_0.predict(Test_X_Tfidf)\n",
    "\n",
    "stop  = time.clock()\n",
    "\n",
    "precision = precision_score(y_predicted, Y_validation, average='micro')\n",
    "f_one = f1_score(y_predicted, Y_validation, average='micro')\n",
    "recall = recall_score(y_predicted, Y_validation, average='micro')\n",
    "accuracy = accuracy_score(y_predicted, Y_validation)\n",
    "kappa = cohen_kappa_score(y_predicted, Y_validation)\n",
    "test_time = stop-start\n",
    "\n",
    "\n",
    "temp_df = pd.DataFrame([accuracy, precision, f_one, recall, kappa, test_time]).T\n",
    "temp_df.columns = metrics_columns\n",
    "perf_df = pd.concat([perf_df, temp_df], axis=0)\n",
    "\n",
    "print('\\nConfusion matrix')\n",
    "confusion_matrix(y_predicted, Y_validation)"
   ]
  },
  {
   "cell_type": "code",
   "execution_count": 73,
   "metadata": {},
   "outputs": [
    {
     "name": "stdout",
     "output_type": "stream",
     "text": [
      "\n",
      "Confusion matrix\n"
     ]
    },
    {
     "data": {
      "text/plain": [
       "array([[ 459,   51,    2,   52],\n",
       "       [ 181, 1174,   59,   80],\n",
       "       [   0,   10,  457,   32],\n",
       "       [  71,   81,   47, 1157]], dtype=int64)"
      ]
     },
     "execution_count": 73,
     "metadata": {},
     "output_type": "execute_result"
    }
   ],
   "source": [
    "start = time.clock()\n",
    "\n",
    "y_predicted = svm_auto_with_gamma_0_2.predict(Test_X_Tfidf)\n",
    "\n",
    "stop  = time.clock()\n",
    "\n",
    "precision = precision_score(y_predicted, Y_validation, average='micro')\n",
    "f_one = f1_score(y_predicted, Y_validation, average='micro')\n",
    "recall = recall_score(y_predicted, Y_validation, average='micro')\n",
    "accuracy = accuracy_score(y_predicted, Y_validation)\n",
    "kappa = cohen_kappa_score(y_predicted, Y_validation)\n",
    "test_time = stop-start\n",
    "\n",
    "\n",
    "temp_df = pd.DataFrame([accuracy, precision, f_one, recall, kappa, test_time]).T\n",
    "temp_df.columns = metrics_columns\n",
    "perf_df = pd.concat([perf_df, temp_df], axis=0)\n",
    "\n",
    "print('\\nConfusion matrix')\n",
    "confusion_matrix(y_predicted, Y_validation)"
   ]
  },
  {
   "cell_type": "code",
   "execution_count": 74,
   "metadata": {},
   "outputs": [
    {
     "name": "stdout",
     "output_type": "stream",
     "text": [
      "\n",
      "Confusion matrix\n"
     ]
    },
    {
     "data": {
      "text/plain": [
       "array([[ 494,  115,    7,   70],\n",
       "       [ 135, 1107,   45,   89],\n",
       "       [   0,   13,  458,   31],\n",
       "       [  82,   81,   55, 1131]], dtype=int64)"
      ]
     },
     "execution_count": 74,
     "metadata": {},
     "output_type": "execute_result"
    }
   ],
   "source": [
    "start = time.clock()\n",
    "\n",
    "y_predicted = svm_auto_with_gamma_0_2_cost_100.predict(Test_X_Tfidf)\n",
    "\n",
    "stop  = time.clock()\n",
    "\n",
    "precision = precision_score(y_predicted, Y_validation, average='micro')\n",
    "f_one = f1_score(y_predicted, Y_validation, average='micro')\n",
    "recall = recall_score(y_predicted, Y_validation, average='micro')\n",
    "accuracy = accuracy_score(y_predicted, Y_validation)\n",
    "kappa = cohen_kappa_score(y_predicted, Y_validation)\n",
    "test_time = stop-start\n",
    "\n",
    "\n",
    "temp_df = pd.DataFrame([accuracy, precision, f_one, recall, kappa, test_time]).T\n",
    "temp_df.columns = metrics_columns\n",
    "perf_df = pd.concat([perf_df, temp_df], axis=0)\n",
    "\n",
    "\n",
    "print('\\nConfusion matrix')\n",
    "confusion_matrix(y_predicted, Y_validation)"
   ]
  },
  {
   "cell_type": "code",
   "execution_count": 75,
   "metadata": {},
   "outputs": [
    {
     "name": "stdout",
     "output_type": "stream",
     "text": [
      "\n",
      "Confusion matrix\n"
     ]
    },
    {
     "data": {
      "text/plain": [
       "array([[   0,    0,    0,    0],\n",
       "       [ 711, 1316,  565, 1321],\n",
       "       [   0,    0,    0,    0],\n",
       "       [   0,    0,    0,    0]], dtype=int64)"
      ]
     },
     "execution_count": 75,
     "metadata": {},
     "output_type": "execute_result"
    }
   ],
   "source": [
    "start = time.clock()\n",
    "\n",
    "y_predicted = svm_poly.predict(Test_X_Tfidf)\n",
    "\n",
    "stop = time.clock()\n",
    "\n",
    "precision = precision_score(y_predicted, Y_validation, average='micro')\n",
    "f_one = f1_score(y_predicted, Y_validation, average='micro')\n",
    "recall = recall_score(y_predicted, Y_validation, average='micro')\n",
    "accuracy = accuracy_score(y_predicted, Y_validation)\n",
    "kappa = cohen_kappa_score(y_predicted, Y_validation)\n",
    "test_time = stop-start\n",
    "\n",
    "\n",
    "temp_df = pd.DataFrame([accuracy, precision, f_one, recall, kappa, test_time]).T\n",
    "temp_df.columns = metrics_columns\n",
    "perf_df = pd.concat([perf_df, temp_df], axis=0)\n",
    "\n",
    "print('\\nConfusion matrix')\n",
    "confusion_matrix(y_predicted, Y_validation)"
   ]
  },
  {
   "cell_type": "code",
   "execution_count": 76,
   "metadata": {},
   "outputs": [
    {
     "name": "stdout",
     "output_type": "stream",
     "text": [
      "\n",
      "Confusion matrix\n"
     ]
    },
    {
     "data": {
      "text/plain": [
       "array([[   0,    0,    0,    0],\n",
       "       [ 711, 1316,  565, 1321],\n",
       "       [   0,    0,    0,    0],\n",
       "       [   0,    0,    0,    0]], dtype=int64)"
      ]
     },
     "execution_count": 76,
     "metadata": {},
     "output_type": "execute_result"
    }
   ],
   "source": [
    "start = time.clock()\n",
    "\n",
    "y_predicted = svm_poly_with_gamma_0.predict(Test_X_Tfidf)\n",
    "\n",
    "stop = time.clock()\n",
    "\n",
    "precision = precision_score(y_predicted, Y_validation, average='micro')\n",
    "f_one = f1_score(y_predicted, Y_validation, average='micro')\n",
    "recall = recall_score(y_predicted, Y_validation, average='micro')\n",
    "accuracy = accuracy_score(y_predicted, Y_validation)\n",
    "kappa = cohen_kappa_score(y_predicted, Y_validation)\n",
    "test_time = stop-start\n",
    "\n",
    "\n",
    "temp_df = pd.DataFrame([accuracy, precision, f_one, recall, kappa, test_time]).T\n",
    "temp_df.columns = metrics_columns\n",
    "perf_df = pd.concat([perf_df, temp_df], axis=0)\n",
    "\n",
    "print('\\nConfusion matrix')\n",
    "confusion_matrix(y_predicted, Y_validation)"
   ]
  },
  {
   "cell_type": "code",
   "execution_count": 77,
   "metadata": {},
   "outputs": [
    {
     "name": "stdout",
     "output_type": "stream",
     "text": [
      "\n",
      "Confusion matrix\n"
     ]
    },
    {
     "data": {
      "text/plain": [
       "array([[  96,    1,    0,    0],\n",
       "       [ 486, 1259,  407,  202],\n",
       "       [   0,    0,   75,    1],\n",
       "       [ 129,   56,   83, 1118]], dtype=int64)"
      ]
     },
     "execution_count": 77,
     "metadata": {},
     "output_type": "execute_result"
    }
   ],
   "source": [
    "start = time.clock()\n",
    "\n",
    "y_predicted = svm_poly_with_gamma_0_2.predict(Test_X_Tfidf)\n",
    "\n",
    "stop = time.clock()\n",
    "\n",
    "precision = precision_score(y_predicted, Y_validation, average='micro')\n",
    "f_one = f1_score(y_predicted, Y_validation, average='micro')\n",
    "recall = recall_score(y_predicted, Y_validation, average='micro')\n",
    "accuracy = accuracy_score(y_predicted, Y_validation)\n",
    "kappa = cohen_kappa_score(y_predicted, Y_validation)\n",
    "test_time = stop-start\n",
    "\n",
    "\n",
    "temp_df = pd.DataFrame([accuracy, precision, f_one, recall, kappa, test_time]).T\n",
    "temp_df.columns = metrics_columns\n",
    "perf_df = pd.concat([perf_df, temp_df], axis=0)\n",
    "\n",
    "print('\\nConfusion matrix')\n",
    "confusion_matrix(y_predicted, Y_validation)"
   ]
  },
  {
   "cell_type": "code",
   "execution_count": 78,
   "metadata": {},
   "outputs": [
    {
     "name": "stdout",
     "output_type": "stream",
     "text": [
      "\n",
      "Confusion matrix\n"
     ]
    },
    {
     "data": {
      "text/plain": [
       "array([[  96,    1,    0,    0],\n",
       "       [ 486, 1259,  407,  202],\n",
       "       [   0,    0,   75,    1],\n",
       "       [ 129,   56,   83, 1118]], dtype=int64)"
      ]
     },
     "execution_count": 78,
     "metadata": {},
     "output_type": "execute_result"
    }
   ],
   "source": [
    "start = time.clock()\n",
    "\n",
    "y_predicted = svm_poly_with_gamma_0_2_cost_100.predict(Test_X_Tfidf)\n",
    "\n",
    "stop = time.clock()\n",
    "\n",
    "precision = precision_score(y_predicted, Y_validation, average='micro')\n",
    "f_one = f1_score(y_predicted, Y_validation, average='micro')\n",
    "recall = recall_score(y_predicted, Y_validation, average='micro')\n",
    "accuracy = accuracy_score(y_predicted, Y_validation)\n",
    "kappa = cohen_kappa_score(y_predicted, Y_validation)\n",
    "test_time = stop-start\n",
    "\n",
    "\n",
    "temp_df = pd.DataFrame([accuracy, precision, f_one, recall, kappa, test_time]).T\n",
    "temp_df.columns = metrics_columns\n",
    "perf_df = pd.concat([perf_df, temp_df], axis=0)\n",
    "\n",
    "print('\\nConfusion matrix')\n",
    "confusion_matrix(y_predicted, Y_validation)"
   ]
  },
  {
   "cell_type": "code",
   "execution_count": 79,
   "metadata": {},
   "outputs": [
    {
     "name": "stdout",
     "output_type": "stream",
     "text": [
      "\n",
      "Confusion matrix\n"
     ]
    },
    {
     "data": {
      "text/plain": [
       "array([[   0,    0,    0,    0],\n",
       "       [ 711, 1316,  565, 1321],\n",
       "       [   0,    0,    0,    0],\n",
       "       [   0,    0,    0,    0]], dtype=int64)"
      ]
     },
     "execution_count": 79,
     "metadata": {},
     "output_type": "execute_result"
    }
   ],
   "source": [
    "start = time.clock()\n",
    "\n",
    "y_predicted = svm_sigmoid.predict(Test_X_Tfidf)\n",
    "\n",
    "stop = time.clock()\n",
    "\n",
    "precision = precision_score(y_predicted, Y_validation, average='micro')\n",
    "f_one = f1_score(y_predicted, Y_validation, average='micro')\n",
    "recall = recall_score(y_predicted, Y_validation, average='micro')\n",
    "accuracy = accuracy_score(y_predicted, Y_validation)\n",
    "kappa = cohen_kappa_score(y_predicted, Y_validation)\n",
    "test_time = stop-start\n",
    "\n",
    "\n",
    "temp_df = pd.DataFrame([accuracy, precision, f_one, recall, kappa, test_time]).T\n",
    "temp_df.columns = metrics_columns\n",
    "perf_df = pd.concat([perf_df, temp_df], axis=0)\n",
    "\n",
    "print('\\nConfusion matrix')\n",
    "confusion_matrix(y_predicted, Y_validation)"
   ]
  },
  {
   "cell_type": "code",
   "execution_count": 80,
   "metadata": {},
   "outputs": [
    {
     "name": "stdout",
     "output_type": "stream",
     "text": [
      "\n",
      "Confusion matrix\n"
     ]
    },
    {
     "data": {
      "text/plain": [
       "array([[   0,    0,    0,    0],\n",
       "       [ 711, 1316,  565, 1321],\n",
       "       [   0,    0,    0,    0],\n",
       "       [   0,    0,    0,    0]], dtype=int64)"
      ]
     },
     "execution_count": 80,
     "metadata": {},
     "output_type": "execute_result"
    }
   ],
   "source": [
    "start = time.clock()\n",
    "\n",
    "y_predicted = svm_sigmoid_with_gamma_0.predict(Test_X_Tfidf)\n",
    "\n",
    "stop = time.clock()\n",
    "\n",
    "precision = precision_score(y_predicted, Y_validation, average='micro')\n",
    "f_one = f1_score(y_predicted, Y_validation, average='micro')\n",
    "recall = recall_score(y_predicted, Y_validation, average='micro')\n",
    "accuracy = accuracy_score(y_predicted, Y_validation)\n",
    "kappa = cohen_kappa_score(y_predicted, Y_validation)\n",
    "test_time = stop-start\n",
    "\n",
    "\n",
    "temp_df = pd.DataFrame([accuracy, precision, f_one, recall, kappa, test_time]).T\n",
    "temp_df.columns = metrics_columns\n",
    "perf_df = pd.concat([perf_df, temp_df], axis=0)\n",
    "\n",
    "print('\\nConfusion matrix')\n",
    "confusion_matrix(y_predicted, Y_validation)"
   ]
  },
  {
   "cell_type": "code",
   "execution_count": 81,
   "metadata": {},
   "outputs": [
    {
     "name": "stdout",
     "output_type": "stream",
     "text": [
      "\n",
      "Confusion matrix\n"
     ]
    },
    {
     "data": {
      "text/plain": [
       "array([[362, 229,  42, 175],\n",
       "       [234, 937,  91, 154],\n",
       "       [ 11,  37, 363,  62],\n",
       "       [104, 113,  69, 930]], dtype=int64)"
      ]
     },
     "execution_count": 81,
     "metadata": {},
     "output_type": "execute_result"
    }
   ],
   "source": [
    "start = time.clock()\n",
    "\n",
    "y_predicted = svm_sigmoid_with_gamma_0_2.predict(Test_X_Tfidf)\n",
    "\n",
    "stop = time.clock()\n",
    "\n",
    "precision = precision_score(y_predicted, Y_validation, average='micro')\n",
    "f_one = f1_score(y_predicted, Y_validation, average='micro')\n",
    "recall = recall_score(y_predicted, Y_validation, average='micro')\n",
    "accuracy = accuracy_score(y_predicted, Y_validation)\n",
    "kappa = cohen_kappa_score(y_predicted, Y_validation)\n",
    "test_time = stop-start\n",
    "\n",
    "\n",
    "temp_df = pd.DataFrame([accuracy, precision, f_one, recall, kappa, test_time]).T\n",
    "temp_df.columns = metrics_columns\n",
    "perf_df = pd.concat([perf_df, temp_df], axis=0)\n",
    "\n",
    "print('\\nConfusion matrix')\n",
    "confusion_matrix(y_predicted, Y_validation)"
   ]
  },
  {
   "cell_type": "code",
   "execution_count": 82,
   "metadata": {},
   "outputs": [
    {
     "name": "stdout",
     "output_type": "stream",
     "text": [
      "\n",
      "Confusion matrix\n"
     ]
    },
    {
     "data": {
      "text/plain": [
       "array([[368, 236,  60, 213],\n",
       "       [203, 897,  90, 121],\n",
       "       [ 22,  53, 342,  75],\n",
       "       [118, 130,  73, 912]], dtype=int64)"
      ]
     },
     "execution_count": 82,
     "metadata": {},
     "output_type": "execute_result"
    }
   ],
   "source": [
    "start = time.clock()\n",
    "\n",
    "y_predicted = svm_sigmoid_with_gamma_0_2_cost_100.predict(Test_X_Tfidf)\n",
    "\n",
    "stop = time.clock()\n",
    "\n",
    "precision = precision_score(y_predicted, Y_validation, average='micro')\n",
    "f_one = f1_score(y_predicted, Y_validation, average='micro')\n",
    "recall = recall_score(y_predicted, Y_validation, average='micro')\n",
    "accuracy = accuracy_score(y_predicted, Y_validation)\n",
    "kappa = cohen_kappa_score(y_predicted, Y_validation)\n",
    "test_time = stop-start\n",
    "\n",
    "\n",
    "temp_df = pd.DataFrame([accuracy, precision, f_one, recall, kappa, test_time]).T\n",
    "temp_df.columns = metrics_columns\n",
    "perf_df = pd.concat([perf_df, temp_df], axis=0)\n",
    "\n",
    "\n",
    "print('\\nConfusion matrix')\n",
    "confusion_matrix(y_predicted, Y_validation)"
   ]
  },
  {
   "cell_type": "markdown",
   "metadata": {},
   "source": [
    "#### KNN"
   ]
  },
  {
   "cell_type": "code",
   "execution_count": 83,
   "metadata": {},
   "outputs": [
    {
     "name": "stdout",
     "output_type": "stream",
     "text": [
      "\n",
      "Confusion matrix\n"
     ]
    },
    {
     "data": {
      "text/plain": [
       "array([[ 510,  168,   33,  116],\n",
       "       [ 134, 1033,   76,  106],\n",
       "       [   7,   25,  411,   50],\n",
       "       [  60,   90,   45, 1049]], dtype=int64)"
      ]
     },
     "execution_count": 83,
     "metadata": {},
     "output_type": "execute_result"
    }
   ],
   "source": [
    "start = time.clock()\n",
    "\n",
    "y_predicted = knn_model.predict(Test_X_Tfidf)\n",
    "\n",
    "stop = time.clock()\n",
    "\n",
    "precision = precision_score(y_predicted, Y_validation, average='micro')\n",
    "f_one = f1_score(y_predicted, Y_validation, average='micro')\n",
    "recall = recall_score(y_predicted, Y_validation, average='micro')\n",
    "accuracy = accuracy_score(y_predicted, Y_validation)\n",
    "kappa = cohen_kappa_score(y_predicted, Y_validation)\n",
    "test_time = stop-start\n",
    "\n",
    "\n",
    "temp_df = pd.DataFrame([accuracy, precision, f_one, recall, kappa, test_time]).T\n",
    "temp_df.columns = metrics_columns\n",
    "perf_df = pd.concat([perf_df, temp_df], axis=0)\n",
    "perf_df_no_tuning = pd.concat([perf_df_no_tuning, temp_df], axis=0)\n",
    "\n",
    "print('\\nConfusion matrix')\n",
    "confusion_matrix(y_predicted, Y_validation)"
   ]
  },
  {
   "cell_type": "markdown",
   "metadata": {},
   "source": [
    "#### Naive Bayes"
   ]
  },
  {
   "cell_type": "code",
   "execution_count": 84,
   "metadata": {},
   "outputs": [
    {
     "name": "stdout",
     "output_type": "stream",
     "text": [
      "\n",
      "Confusion matrix\n"
     ]
    },
    {
     "data": {
      "text/plain": [
       "array([[ 265,   12,    0,   23],\n",
       "       [ 314, 1200,  122,   74],\n",
       "       [   0,    0,  283,   19],\n",
       "       [ 132,  104,  160, 1205]], dtype=int64)"
      ]
     },
     "execution_count": 84,
     "metadata": {},
     "output_type": "execute_result"
    }
   ],
   "source": [
    "start = time.clock()\n",
    "\n",
    "y_predicted = Naive.predict(Test_X_Tfidf)\n",
    "\n",
    "stop = time.clock()\n",
    "\n",
    "precision = precision_score(y_predicted, Y_validation, average='micro')\n",
    "f_one = f1_score(y_predicted, Y_validation, average='micro')\n",
    "recall = recall_score(y_predicted, Y_validation, average='micro')\n",
    "accuracy = accuracy_score(y_predicted, Y_validation)\n",
    "kappa = cohen_kappa_score(y_predicted, Y_validation)\n",
    "test_time = stop-start\n",
    "\n",
    "\n",
    "temp_df = pd.DataFrame([accuracy, precision, f_one, recall, kappa, test_time]).T\n",
    "temp_df.columns = metrics_columns\n",
    "perf_df = pd.concat([perf_df, temp_df], axis=0)\n",
    "perf_df_no_tuning = pd.concat([perf_df_no_tuning, temp_df], axis=0)\n",
    "\n",
    "print('\\nConfusion matrix')\n",
    "confusion_matrix(y_predicted, Y_validation)"
   ]
  },
  {
   "cell_type": "markdown",
   "metadata": {},
   "source": [
    "#### Logistic"
   ]
  },
  {
   "cell_type": "code",
   "execution_count": 85,
   "metadata": {},
   "outputs": [
    {
     "name": "stdout",
     "output_type": "stream",
     "text": [
      "\n",
      "Confusion matrix\n"
     ]
    },
    {
     "data": {
      "text/plain": [
       "array([[ 326,   18,    0,   28],\n",
       "       [ 264, 1201,  105,   88],\n",
       "       [   1,    0,  357,   22],\n",
       "       [ 120,   97,  103, 1183]], dtype=int64)"
      ]
     },
     "execution_count": 85,
     "metadata": {},
     "output_type": "execute_result"
    }
   ],
   "source": [
    "start = time.clock()\n",
    "\n",
    "y_predicted = log_reg.predict(Test_X_Tfidf)\n",
    "\n",
    "stop = time.clock()\n",
    "\n",
    "precision = precision_score(y_predicted, Y_validation, average='micro')\n",
    "f_one = f1_score(y_predicted, Y_validation, average='micro')\n",
    "recall = recall_score(y_predicted, Y_validation, average='micro')\n",
    "accuracy = accuracy_score(y_predicted, Y_validation)\n",
    "kappa = cohen_kappa_score(y_predicted, Y_validation)\n",
    "test_time = stop-start\n",
    "\n",
    "\n",
    "temp_df = pd.DataFrame([accuracy, precision, f_one, recall, kappa, test_time]).T\n",
    "temp_df.columns = metrics_columns\n",
    "perf_df = pd.concat([perf_df, temp_df], axis=0)\n",
    "perf_df_no_tuning = pd.concat([perf_df_no_tuning, temp_df], axis=0)\n",
    "\n",
    "print('\\nConfusion matrix')\n",
    "confusion_matrix(y_predicted, Y_validation)"
   ]
  },
  {
   "cell_type": "markdown",
   "metadata": {},
   "source": [
    "#### DBSCAN"
   ]
  },
  {
   "cell_type": "code",
   "execution_count": 86,
   "metadata": {},
   "outputs": [
    {
     "name": "stdout",
     "output_type": "stream",
     "text": [
      "\n",
      "Confusion matrix\n"
     ]
    },
    {
     "data": {
      "text/plain": [
       "array([[   0,  711, 1316,  565, 1321],\n",
       "       [   0,    0,    0,    0,    0],\n",
       "       [   0,    0,    0,    0,    0],\n",
       "       [   0,    0,    0,    0,    0],\n",
       "       [   0,    0,    0,    0,    0]], dtype=int64)"
      ]
     },
     "execution_count": 86,
     "metadata": {},
     "output_type": "execute_result"
    }
   ],
   "source": [
    "#db.predict(Test_X_Tfidf)\n",
    "\n",
    "start = time.clock()\n",
    "y_predicted = db.fit_predict(Test_X_Tfidf)\n",
    "stop = time.clock()\n",
    "labels = db.labels_\n",
    "\n",
    "precision = precision_score(y_predicted, Y_validation, average='micro')\n",
    "f_one = f1_score(y_predicted, Y_validation, average='micro')\n",
    "recall = recall_score(y_predicted, Y_validation, average='micro')\n",
    "accuracy = accuracy_score(y_predicted, Y_validation)\n",
    "kappa = cohen_kappa_score(y_predicted, Y_validation)\n",
    "test_time = stop-start\n",
    "\n",
    "\n",
    "temp_df = pd.DataFrame([accuracy, precision, f_one, recall, kappa, test_time]).T\n",
    "temp_df.columns = metrics_columns\n",
    "perf_df = pd.concat([perf_df, temp_df], axis=0)\n",
    "perf_df_no_tuning = pd.concat([perf_df_no_tuning, temp_df], axis=0)\n",
    "\n",
    "print('\\nConfusion matrix')\n",
    "confusion_matrix(y_predicted, Y_validation)"
   ]
  },
  {
   "cell_type": "markdown",
   "metadata": {},
   "source": [
    "#### K-Means"
   ]
  },
  {
   "cell_type": "code",
   "execution_count": 87,
   "metadata": {},
   "outputs": [
    {
     "name": "stdout",
     "output_type": "stream",
     "text": [
      "\n",
      "Confusion matrix\n"
     ]
    },
    {
     "data": {
      "text/plain": [
       "array([[169, 564,   0,  13],\n",
       "       [157, 315, 342, 120],\n",
       "       [361, 428, 204, 933],\n",
       "       [ 24,   9,  19, 255]], dtype=int64)"
      ]
     },
     "execution_count": 87,
     "metadata": {},
     "output_type": "execute_result"
    }
   ],
   "source": [
    "#y_predicted_kmeans = kmeans_model.predict(Test_X_Tfidf)\n",
    "Y = kmeans_vectorizer.transform(X_validation)\n",
    "start = time.clock()\n",
    "y_predicted = kmeans_model.predict(Y)\n",
    "\n",
    "stop = time.clock()\n",
    "\n",
    "precision = precision_score(y_predicted, Y_validation, average='micro')\n",
    "f_one = f1_score(y_predicted, Y_validation, average='micro')\n",
    "recall = recall_score(y_predicted, Y_validation, average='micro')\n",
    "accuracy = accuracy_score(y_predicted, Y_validation)\n",
    "kappa = cohen_kappa_score(y_predicted, Y_validation)\n",
    "test_time = stop-start\n",
    "\n",
    "\n",
    "temp_df = pd.DataFrame([accuracy, precision, f_one, recall, kappa, test_time]).T\n",
    "temp_df.columns = metrics_columns\n",
    "perf_df = pd.concat([perf_df, temp_df], axis=0)\n",
    "perf_df_no_tuning = pd.concat([perf_df_no_tuning, temp_df], axis=0)\n",
    "\n",
    "print('\\nConfusion matrix')\n",
    "confusion_matrix(y_predicted, Y_validation)"
   ]
  },
  {
   "cell_type": "markdown",
   "metadata": {},
   "source": [
    "#### LDA"
   ]
  },
  {
   "cell_type": "code",
   "execution_count": 88,
   "metadata": {},
   "outputs": [
    {
     "name": "stdout",
     "output_type": "stream",
     "text": [
      "\n",
      "Confusion matrix\n"
     ]
    },
    {
     "data": {
      "text/plain": [
       "array([[   0,    0,    0,    0],\n",
       "       [ 586, 1084,  424, 1021],\n",
       "       [   0,    0,    0,    0],\n",
       "       [ 125,  232,  141,  300]], dtype=int64)"
      ]
     },
     "execution_count": 88,
     "metadata": {},
     "output_type": "execute_result"
    }
   ],
   "source": [
    "#y_predicted_lda = lda.predict(Test_X_Tfidf)\n",
    "X_val_lda = le.fit_transform(X_validation).reshape(-1,1)\n",
    "\n",
    "start = time.clock()\n",
    "y_predicted = lda.predict(X_val_lda)\n",
    "\n",
    "stop = time.clock()\n",
    "\n",
    "precision = precision_score(y_predicted, Y_validation, average='micro')\n",
    "f_one = f1_score(y_predicted, Y_validation, average='micro')\n",
    "recall = recall_score(y_predicted, Y_validation, average='micro')\n",
    "accuracy = accuracy_score(y_predicted, Y_validation)\n",
    "kappa = cohen_kappa_score(y_predicted, Y_validation)\n",
    "test_time = stop-start\n",
    "\n",
    "\n",
    "temp_df = pd.DataFrame([accuracy, precision, f_one, recall, kappa, test_time]).T\n",
    "temp_df.columns = metrics_columns\n",
    "perf_df = pd.concat([perf_df, temp_df], axis=0)\n",
    "perf_df_no_tuning = pd.concat([perf_df_no_tuning, temp_df], axis=0)\n",
    "\n",
    "print('\\nConfusion matrix')\n",
    "confusion_matrix(y_predicted, Y_validation)"
   ]
  },
  {
   "cell_type": "markdown",
   "metadata": {},
   "source": [
    "#### Fuzzy C-Means"
   ]
  },
  {
   "cell_type": "code",
   "execution_count": 89,
   "metadata": {},
   "outputs": [
    {
     "name": "stdout",
     "output_type": "stream",
     "text": [
      "\n",
      "Confusion matrix\n"
     ]
    },
    {
     "data": {
      "text/plain": [
       "array([[146, 336, 147, 372],\n",
       "       [152, 281, 163, 340],\n",
       "       [199, 373, 125, 319],\n",
       "       [214, 326, 130, 290]], dtype=int64)"
      ]
     },
     "execution_count": 89,
     "metadata": {},
     "output_type": "execute_result"
    }
   ],
   "source": [
    "start = time.clock()\n",
    "\n",
    "X_test = le.fit_transform(X_validation).reshape(-1,1)\n",
    "fcm.fit(X_test)\n",
    "y_predicted = fcm.u.argmax(axis=1)\n",
    "\n",
    "stop = time.clock()\n",
    "\n",
    "precision = precision_score(y_predicted, Y_validation, average='micro')\n",
    "f_one = f1_score(y_predicted, Y_validation, average='micro')\n",
    "recall = recall_score(y_predicted, Y_validation, average='micro')\n",
    "accuracy = accuracy_score(y_predicted, Y_validation)\n",
    "kappa = cohen_kappa_score(y_predicted, Y_validation)\n",
    "test_time = stop-start\n",
    "\n",
    "\n",
    "temp_df = pd.DataFrame([accuracy, precision, f_one, recall, kappa, test_time]).T\n",
    "temp_df.columns = metrics_columns\n",
    "perf_df = pd.concat([perf_df, temp_df], axis=0)\n",
    "perf_df_no_tuning = pd.concat([perf_df_no_tuning, temp_df], axis=0)\n",
    "\n",
    "print('\\nConfusion matrix')\n",
    "confusion_matrix(y_predicted, Y_validation)"
   ]
  },
  {
   "cell_type": "code",
   "execution_count": 90,
   "metadata": {},
   "outputs": [],
   "source": [
    "from sklearn.datasets.samples_generator import make_blobs\n",
    "from sklearn.metrics import accuracy_score, precision_score, recall_score, f1_score, roc_curve, auc, confusion_matrix, cohen_kappa_score\n",
    "from numpy import linalg as la\n",
    "import math\n",
    "import random\n",
    "\n",
    "class CustomFCM(object):\n",
    "    \n",
    "    def __init__(self, number_of_clusters, threshold):\n",
    "        self.number_of_clusters = number_of_clusters\n",
    "        self.threshold = threshold\n",
    "        self.current_membership_matrix = []  # membership matrix\n",
    "        self.previous_membership_matrix = []  # membership matrix in previous iteration\n",
    "        self._data = []\n",
    "        self.centroids = []\n",
    "        self._fuzzifier = 2\n",
    "        self._error = 0.01\n",
    "        self._dimension = 2\n",
    "        self.sigma = 0.1\n",
    "        self.l = []\n",
    "        \n",
    "    def load_data(self, data):\n",
    "        #X, y = make_blobs(n_samples=20, centers=self.number_of_clusters, n_features=2,random_state=0)\n",
    "        X0 = le.fit_transform(data).reshape(-1,1)\n",
    "        n,m = X0.shape # for generality\n",
    "        X1 = np.ones((n,1))\n",
    "        self._data = np.hstack((X0,X1))\n",
    "        #print(np.mat(Test_X_Tfidf))\n",
    "        #print(le.fit_transform(X_train).reshape(-1,1))\n",
    "    \n",
    "    def return_membership(self):\n",
    "        return self.current_membership_matrix\n",
    "    \n",
    "    def compute_distance(self, a, b):\n",
    "        #print(f'a is {a} and b is {b} and norm is {la.norm(a-b)}')\n",
    "        return la.norm(a)-la.norm(b)\n",
    "        \n",
    "    def init_membership_matrix(self):\n",
    "        max_range = int(max(self._data[:, 0]))\n",
    "        min_range = int(min(self._data[:, 0]))\n",
    "\n",
    "        for i in range(len(self._data)):\n",
    "            s = 0.000001\n",
    "            self.current_membership_matrix.append([])\n",
    "            self.previous_membership_matrix.append([])\n",
    "            for j in range(self.number_of_clusters):\n",
    "                self.current_membership_matrix[i].append(random.uniform(min_range, max_range))\n",
    "                s += self.current_membership_matrix[i][j]\n",
    "                self.previous_membership_matrix[i].append(0)\n",
    "            for j in range(self.number_of_clusters):\n",
    "                    self.current_membership_matrix[i][j] /= s\n",
    "        \n",
    "    def calculate_centroids(self):\n",
    "        self.centroids.clear()\n",
    "        for i in range(self.number_of_clusters):\n",
    "            cluster_center_row = []\n",
    "            for j in range(self._dimension):\n",
    "                sum1 = 0\n",
    "                sum2 = 0\n",
    "                for k in range(len(self._data)):\n",
    "                    powered = self.current_membership_matrix[k][i] ** self._fuzzifier\n",
    "                    sum1 += powered * self._data[k][j]\n",
    "                    sum2 += powered\n",
    "                cluster_center_row.append(sum1 / sum2)\n",
    "            self.centroids.append(cluster_center_row)\n",
    "        \n",
    "    def update_membership_matrix(self):\n",
    "        for i in range(len(self._data)):\n",
    "            for j in range(self.number_of_clusters):\n",
    "                self.previous_membership_matrix[i][j] = self.current_membership_matrix[i][j]\n",
    "                res = 0\n",
    "                num = self.compute_distance(self._data[i], self.centroids[j])\n",
    "                for k in range(self.number_of_clusters):\n",
    "                    den = self.compute_distance(self._data[i], self.centroids[k])\n",
    "                    res += (num / den) ** (2 / (self._fuzzifier - 1))\n",
    "                self.current_membership_matrix[i][j] = 1 / res\n",
    "        \n",
    "    def declare_result(self):\n",
    "        return abs(la.norm(self.current_membership_matrix, ord=2) - la.norm(self.previous_membership_matrix, ord=2))\n",
    "    \n",
    "    def cluster_algo(self, data):\n",
    "        self.load_data(data)\n",
    "        self.init_membership_matrix()\n",
    "        self.rbf_kernel(self.current_membership_matrix, self.previous_membership_matrix)\n",
    "        declared = math.inf\n",
    "        while declared > self.threshold:\n",
    "            self.calculate_centroids()\n",
    "            self.update_membership_matrix()\n",
    "            declared = self.declare_result()\n",
    "        self.final_list()\n",
    "        #print(len(self.l))\n",
    "        #print(self.return_membership())\n",
    "        return self.l\n",
    "    \n",
    "    def rbf_kernel(self, matrix_a, matrix_b):\n",
    "        trnorms1 = np.mat([(v * np.mat(v).T)[0, 0] for v in matrix_a]).T\n",
    "        trnorms2 = np.mat([(v * np.mat(v).T)[0, 0] for v in matrix_b]).T\n",
    "        k1 = trnorms1 * np.mat(np.ones((np.mat(matrix_b).shape[0], 1), dtype=np.float64)).T\n",
    "        k2 = np.mat(np.ones((np.mat(matrix_a).shape[0], 1), dtype=np.float64)) * trnorms2.T\n",
    "        k = k1 + k2\n",
    "        k -= 2 * np.mat(matrix_a * np.mat(matrix_b).T)\n",
    "        k *= - 1./(2 * np.power(self.sigma, 2))\n",
    "        return np.exp(k)\n",
    "    \n",
    "    def final_list(self):\n",
    "        for i in range(len(self.current_membership_matrix)):\n",
    "            self.l.append(self.current_membership_matrix[i].index(max(self.current_membership_matrix[i])))\n",
    "        return 0"
   ]
  },
  {
   "cell_type": "code",
   "execution_count": 91,
   "metadata": {},
   "outputs": [
    {
     "data": {
      "text/plain": [
       "array([[  1,   3,   3,   8],\n",
       "       [298, 617, 311, 712],\n",
       "       [  3,   7,   7,   1],\n",
       "       [409, 689, 244, 600]], dtype=int64)"
      ]
     },
     "execution_count": 91,
     "metadata": {},
     "output_type": "execute_result"
    }
   ],
   "source": [
    "start = time.clock()\n",
    "fcm = CustomFCM(4, 0.003)\n",
    "y_predicted = fcm.cluster_algo(data=X_validation)\n",
    "stop = time.clock()\n",
    "precision = precision_score(y_predicted, Y_validation, average='micro')\n",
    "f_one = f1_score(y_predicted, Y_validation, average='micro')\n",
    "recall = recall_score(y_predicted, Y_validation, average='micro')\n",
    "accuracy = accuracy_score(y_predicted, Y_validation)\n",
    "kappa = cohen_kappa_score(y_predicted, Y_validation)\n",
    "test_time = stop-start\n",
    "\n",
    "temp_df = pd.DataFrame([accuracy, precision, f_one, recall, kappa, test_time]).T\n",
    "temp_df.columns = metrics_columns\n",
    "perf_df = pd.concat([perf_df, temp_df], axis=0)\n",
    "\n",
    "confusion_matrix(y_predicted, Y_validation)"
   ]
  },
  {
   "cell_type": "code",
   "execution_count": 93,
   "metadata": {},
   "outputs": [],
   "source": [
    "#What are we predicting?\n",
    "\n",
    "#Comparing the performance of different algorithms on text classification"
   ]
  },
  {
   "cell_type": "code",
   "execution_count": 94,
   "metadata": {},
   "outputs": [],
   "source": [
    "#Interpreting confusion matrix\n",
    "\n",
    "#The columns are the actual classes, whuile the rows are the predicted classes.\n",
    "#The main diagobnal represents the number of correclty classified items"
   ]
  },
  {
   "cell_type": "code",
   "execution_count": 95,
   "metadata": {},
   "outputs": [
    {
     "name": "stdout",
     "output_type": "stream",
     "text": [
      "\n",
      "\n",
      "****************************    Comparisons    ****************************\n"
     ]
    },
    {
     "data": {
      "text/html": [
       "<div>\n",
       "<style scoped>\n",
       "    .dataframe tbody tr th:only-of-type {\n",
       "        vertical-align: middle;\n",
       "    }\n",
       "\n",
       "    .dataframe tbody tr th {\n",
       "        vertical-align: top;\n",
       "    }\n",
       "\n",
       "    .dataframe thead th {\n",
       "        text-align: right;\n",
       "    }\n",
       "</style>\n",
       "<table border=\"1\" class=\"dataframe\">\n",
       "  <thead>\n",
       "    <tr style=\"text-align: right;\">\n",
       "      <th></th>\n",
       "      <th>accuracy</th>\n",
       "      <th>precision</th>\n",
       "      <th>f1-score</th>\n",
       "      <th>recall</th>\n",
       "      <th>kappa</th>\n",
       "      <th>time</th>\n",
       "    </tr>\n",
       "  </thead>\n",
       "  <tbody>\n",
       "    <tr>\n",
       "      <th>svm-auto</th>\n",
       "      <td>0.83</td>\n",
       "      <td>0.83</td>\n",
       "      <td>0.83</td>\n",
       "      <td>0.83</td>\n",
       "      <td>0.76</td>\n",
       "      <td>1.29</td>\n",
       "    </tr>\n",
       "    <tr>\n",
       "      <th>svm auto, g=0</th>\n",
       "      <td>0.83</td>\n",
       "      <td>0.83</td>\n",
       "      <td>0.83</td>\n",
       "      <td>0.83</td>\n",
       "      <td>0.76</td>\n",
       "      <td>1.16</td>\n",
       "    </tr>\n",
       "    <tr>\n",
       "      <th>svm auto, g=0.2</th>\n",
       "      <td>0.83</td>\n",
       "      <td>0.83</td>\n",
       "      <td>0.83</td>\n",
       "      <td>0.83</td>\n",
       "      <td>0.76</td>\n",
       "      <td>1.08</td>\n",
       "    </tr>\n",
       "    <tr>\n",
       "      <th>svm auto, g=0.2, c=100</th>\n",
       "      <td>0.82</td>\n",
       "      <td>0.82</td>\n",
       "      <td>0.82</td>\n",
       "      <td>0.82</td>\n",
       "      <td>0.74</td>\n",
       "      <td>1.10</td>\n",
       "    </tr>\n",
       "    <tr>\n",
       "      <th>svm rbf</th>\n",
       "      <td>0.34</td>\n",
       "      <td>0.34</td>\n",
       "      <td>0.34</td>\n",
       "      <td>0.34</td>\n",
       "      <td>0.00</td>\n",
       "      <td>1.34</td>\n",
       "    </tr>\n",
       "    <tr>\n",
       "      <th>svm rbf, g=0</th>\n",
       "      <td>0.34</td>\n",
       "      <td>0.34</td>\n",
       "      <td>0.34</td>\n",
       "      <td>0.34</td>\n",
       "      <td>0.00</td>\n",
       "      <td>1.24</td>\n",
       "    </tr>\n",
       "    <tr>\n",
       "      <th>svm rbf, g=0.2</th>\n",
       "      <td>0.83</td>\n",
       "      <td>0.83</td>\n",
       "      <td>0.83</td>\n",
       "      <td>0.83</td>\n",
       "      <td>0.76</td>\n",
       "      <td>0.84</td>\n",
       "    </tr>\n",
       "    <tr>\n",
       "      <th>svm rbf, g=0.2, c=100</th>\n",
       "      <td>0.82</td>\n",
       "      <td>0.82</td>\n",
       "      <td>0.82</td>\n",
       "      <td>0.82</td>\n",
       "      <td>0.74</td>\n",
       "      <td>0.85</td>\n",
       "    </tr>\n",
       "    <tr>\n",
       "      <th>svm poly</th>\n",
       "      <td>0.34</td>\n",
       "      <td>0.34</td>\n",
       "      <td>0.34</td>\n",
       "      <td>0.34</td>\n",
       "      <td>0.00</td>\n",
       "      <td>0.99</td>\n",
       "    </tr>\n",
       "    <tr>\n",
       "      <th>svm poly, g=0</th>\n",
       "      <td>0.34</td>\n",
       "      <td>0.34</td>\n",
       "      <td>0.34</td>\n",
       "      <td>0.34</td>\n",
       "      <td>0.00</td>\n",
       "      <td>1.01</td>\n",
       "    </tr>\n",
       "    <tr>\n",
       "      <th>svm poly, g=0.2</th>\n",
       "      <td>0.65</td>\n",
       "      <td>0.65</td>\n",
       "      <td>0.65</td>\n",
       "      <td>0.65</td>\n",
       "      <td>0.48</td>\n",
       "      <td>0.98</td>\n",
       "    </tr>\n",
       "    <tr>\n",
       "      <th>svm poly, g=0.2, c=100</th>\n",
       "      <td>0.65</td>\n",
       "      <td>0.65</td>\n",
       "      <td>0.65</td>\n",
       "      <td>0.65</td>\n",
       "      <td>0.48</td>\n",
       "      <td>0.97</td>\n",
       "    </tr>\n",
       "    <tr>\n",
       "      <th>svm sigmoid</th>\n",
       "      <td>0.34</td>\n",
       "      <td>0.34</td>\n",
       "      <td>0.34</td>\n",
       "      <td>0.34</td>\n",
       "      <td>0.00</td>\n",
       "      <td>1.02</td>\n",
       "    </tr>\n",
       "    <tr>\n",
       "      <th>svm sigmoid, g=0</th>\n",
       "      <td>0.34</td>\n",
       "      <td>0.34</td>\n",
       "      <td>0.34</td>\n",
       "      <td>0.34</td>\n",
       "      <td>0.00</td>\n",
       "      <td>1.03</td>\n",
       "    </tr>\n",
       "    <tr>\n",
       "      <th>svm sigmoid, g=0.2</th>\n",
       "      <td>0.66</td>\n",
       "      <td>0.66</td>\n",
       "      <td>0.66</td>\n",
       "      <td>0.66</td>\n",
       "      <td>0.53</td>\n",
       "      <td>0.59</td>\n",
       "    </tr>\n",
       "    <tr>\n",
       "      <th>svm sigmoid, g=0.2, c=100</th>\n",
       "      <td>0.64</td>\n",
       "      <td>0.64</td>\n",
       "      <td>0.64</td>\n",
       "      <td>0.64</td>\n",
       "      <td>0.51</td>\n",
       "      <td>0.55</td>\n",
       "    </tr>\n",
       "    <tr>\n",
       "      <th>KNN</th>\n",
       "      <td>0.77</td>\n",
       "      <td>0.77</td>\n",
       "      <td>0.77</td>\n",
       "      <td>0.77</td>\n",
       "      <td>0.68</td>\n",
       "      <td>0.30</td>\n",
       "    </tr>\n",
       "    <tr>\n",
       "      <th>Naive Bayes</th>\n",
       "      <td>0.75</td>\n",
       "      <td>0.75</td>\n",
       "      <td>0.75</td>\n",
       "      <td>0.75</td>\n",
       "      <td>0.64</td>\n",
       "      <td>0.01</td>\n",
       "    </tr>\n",
       "    <tr>\n",
       "      <th>Logistic</th>\n",
       "      <td>0.78</td>\n",
       "      <td>0.78</td>\n",
       "      <td>0.78</td>\n",
       "      <td>0.78</td>\n",
       "      <td>0.69</td>\n",
       "      <td>0.00</td>\n",
       "    </tr>\n",
       "    <tr>\n",
       "      <th>DBSCAN</th>\n",
       "      <td>0.00</td>\n",
       "      <td>0.00</td>\n",
       "      <td>0.00</td>\n",
       "      <td>0.00</td>\n",
       "      <td>0.00</td>\n",
       "      <td>0.38</td>\n",
       "    </tr>\n",
       "    <tr>\n",
       "      <th>K-Means</th>\n",
       "      <td>0.24</td>\n",
       "      <td>0.24</td>\n",
       "      <td>0.24</td>\n",
       "      <td>0.24</td>\n",
       "      <td>0.04</td>\n",
       "      <td>0.00</td>\n",
       "    </tr>\n",
       "    <tr>\n",
       "      <th>LDA</th>\n",
       "      <td>0.35</td>\n",
       "      <td>0.35</td>\n",
       "      <td>0.35</td>\n",
       "      <td>0.35</td>\n",
       "      <td>0.03</td>\n",
       "      <td>0.00</td>\n",
       "    </tr>\n",
       "    <tr>\n",
       "      <th>FCM</th>\n",
       "      <td>0.22</td>\n",
       "      <td>0.22</td>\n",
       "      <td>0.22</td>\n",
       "      <td>0.22</td>\n",
       "      <td>-0.04</td>\n",
       "      <td>0.16</td>\n",
       "    </tr>\n",
       "    <tr>\n",
       "      <th>CustomFCM</th>\n",
       "      <td>0.31</td>\n",
       "      <td>0.31</td>\n",
       "      <td>0.31</td>\n",
       "      <td>0.31</td>\n",
       "      <td>-0.03</td>\n",
       "      <td>3.23</td>\n",
       "    </tr>\n",
       "  </tbody>\n",
       "</table>\n",
       "</div>"
      ],
      "text/plain": [
       "                           accuracy  precision  f1-score  recall  kappa  time\n",
       "svm-auto                       0.83       0.83      0.83    0.83   0.76  1.29\n",
       "svm auto, g=0                  0.83       0.83      0.83    0.83   0.76  1.16\n",
       "svm auto, g=0.2                0.83       0.83      0.83    0.83   0.76  1.08\n",
       "svm auto, g=0.2, c=100         0.82       0.82      0.82    0.82   0.74  1.10\n",
       "svm rbf                        0.34       0.34      0.34    0.34   0.00  1.34\n",
       "svm rbf, g=0                   0.34       0.34      0.34    0.34   0.00  1.24\n",
       "svm rbf, g=0.2                 0.83       0.83      0.83    0.83   0.76  0.84\n",
       "svm rbf, g=0.2, c=100          0.82       0.82      0.82    0.82   0.74  0.85\n",
       "svm poly                       0.34       0.34      0.34    0.34   0.00  0.99\n",
       "svm poly, g=0                  0.34       0.34      0.34    0.34   0.00  1.01\n",
       "svm poly, g=0.2                0.65       0.65      0.65    0.65   0.48  0.98\n",
       "svm poly, g=0.2, c=100         0.65       0.65      0.65    0.65   0.48  0.97\n",
       "svm sigmoid                    0.34       0.34      0.34    0.34   0.00  1.02\n",
       "svm sigmoid, g=0               0.34       0.34      0.34    0.34   0.00  1.03\n",
       "svm sigmoid, g=0.2             0.66       0.66      0.66    0.66   0.53  0.59\n",
       "svm sigmoid, g=0.2, c=100      0.64       0.64      0.64    0.64   0.51  0.55\n",
       "KNN                            0.77       0.77      0.77    0.77   0.68  0.30\n",
       "Naive Bayes                    0.75       0.75      0.75    0.75   0.64  0.01\n",
       "Logistic                       0.78       0.78      0.78    0.78   0.69  0.00\n",
       "DBSCAN                         0.00       0.00      0.00    0.00   0.00  0.38\n",
       "K-Means                        0.24       0.24      0.24    0.24   0.04  0.00\n",
       "LDA                            0.35       0.35      0.35    0.35   0.03  0.00\n",
       "FCM                            0.22       0.22      0.22    0.22  -0.04  0.16\n",
       "CustomFCM                      0.31       0.31      0.31    0.31  -0.03  3.23"
      ]
     },
     "execution_count": 95,
     "metadata": {},
     "output_type": "execute_result"
    }
   ],
   "source": [
    "print('\\n\\n****************************    Comparisons    ****************************')\n",
    "\n",
    "perf_df.set_index([['svm-auto', 'svm auto, g=0', 'svm auto, g=0.2', 'svm auto, g=0.2, c=100', 'svm rbf', 'svm rbf, g=0', 'svm rbf, g=0.2', 'svm rbf, g=0.2, c=100', 'svm poly', 'svm poly, g=0', 'svm poly, g=0.2', 'svm poly, g=0.2, c=100', 'svm sigmoid', 'svm sigmoid, g=0', 'svm sigmoid, g=0.2', 'svm sigmoid, g=0.2, c=100', 'KNN', 'Naive Bayes', 'Logistic', 'DBSCAN', 'K-Means', 'LDA', 'FCM', 'CustomFCM']], inplace=True)\n",
    "perf_df"
   ]
  },
  {
   "cell_type": "code",
   "execution_count": 96,
   "metadata": {},
   "outputs": [
    {
     "name": "stdout",
     "output_type": "stream",
     "text": [
      "\n",
      "\n",
      "****************************    Original    ****************************\n"
     ]
    },
    {
     "data": {
      "text/html": [
       "<div>\n",
       "<style scoped>\n",
       "    .dataframe tbody tr th:only-of-type {\n",
       "        vertical-align: middle;\n",
       "    }\n",
       "\n",
       "    .dataframe tbody tr th {\n",
       "        vertical-align: top;\n",
       "    }\n",
       "\n",
       "    .dataframe thead th {\n",
       "        text-align: right;\n",
       "    }\n",
       "</style>\n",
       "<table border=\"1\" class=\"dataframe\">\n",
       "  <thead>\n",
       "    <tr style=\"text-align: right;\">\n",
       "      <th></th>\n",
       "      <th>accuracy</th>\n",
       "      <th>precision</th>\n",
       "      <th>f1-score</th>\n",
       "      <th>recall</th>\n",
       "      <th>kappa</th>\n",
       "      <th>time</th>\n",
       "    </tr>\n",
       "  </thead>\n",
       "  <tbody>\n",
       "    <tr>\n",
       "      <th>SVM</th>\n",
       "      <td>0.83</td>\n",
       "      <td>0.83</td>\n",
       "      <td>0.83</td>\n",
       "      <td>0.83</td>\n",
       "      <td>0.76</td>\n",
       "      <td>1.29</td>\n",
       "    </tr>\n",
       "    <tr>\n",
       "      <th>KNN</th>\n",
       "      <td>0.77</td>\n",
       "      <td>0.77</td>\n",
       "      <td>0.77</td>\n",
       "      <td>0.77</td>\n",
       "      <td>0.68</td>\n",
       "      <td>0.30</td>\n",
       "    </tr>\n",
       "    <tr>\n",
       "      <th>Naive Bayes</th>\n",
       "      <td>0.75</td>\n",
       "      <td>0.75</td>\n",
       "      <td>0.75</td>\n",
       "      <td>0.75</td>\n",
       "      <td>0.64</td>\n",
       "      <td>0.01</td>\n",
       "    </tr>\n",
       "    <tr>\n",
       "      <th>Logistic</th>\n",
       "      <td>0.78</td>\n",
       "      <td>0.78</td>\n",
       "      <td>0.78</td>\n",
       "      <td>0.78</td>\n",
       "      <td>0.69</td>\n",
       "      <td>0.00</td>\n",
       "    </tr>\n",
       "    <tr>\n",
       "      <th>DBSCAN</th>\n",
       "      <td>0.00</td>\n",
       "      <td>0.00</td>\n",
       "      <td>0.00</td>\n",
       "      <td>0.00</td>\n",
       "      <td>0.00</td>\n",
       "      <td>0.38</td>\n",
       "    </tr>\n",
       "    <tr>\n",
       "      <th>K Means</th>\n",
       "      <td>0.24</td>\n",
       "      <td>0.24</td>\n",
       "      <td>0.24</td>\n",
       "      <td>0.24</td>\n",
       "      <td>0.04</td>\n",
       "      <td>0.00</td>\n",
       "    </tr>\n",
       "    <tr>\n",
       "      <th>LDA</th>\n",
       "      <td>0.35</td>\n",
       "      <td>0.35</td>\n",
       "      <td>0.35</td>\n",
       "      <td>0.35</td>\n",
       "      <td>0.03</td>\n",
       "      <td>0.00</td>\n",
       "    </tr>\n",
       "    <tr>\n",
       "      <th>FCM</th>\n",
       "      <td>0.22</td>\n",
       "      <td>0.22</td>\n",
       "      <td>0.22</td>\n",
       "      <td>0.22</td>\n",
       "      <td>-0.04</td>\n",
       "      <td>0.16</td>\n",
       "    </tr>\n",
       "  </tbody>\n",
       "</table>\n",
       "</div>"
      ],
      "text/plain": [
       "             accuracy  precision  f1-score  recall  kappa  time\n",
       "SVM              0.83       0.83      0.83    0.83   0.76  1.29\n",
       "KNN              0.77       0.77      0.77    0.77   0.68  0.30\n",
       "Naive Bayes      0.75       0.75      0.75    0.75   0.64  0.01\n",
       "Logistic         0.78       0.78      0.78    0.78   0.69  0.00\n",
       "DBSCAN           0.00       0.00      0.00    0.00   0.00  0.38\n",
       "K Means          0.24       0.24      0.24    0.24   0.04  0.00\n",
       "LDA              0.35       0.35      0.35    0.35   0.03  0.00\n",
       "FCM              0.22       0.22      0.22    0.22  -0.04  0.16"
      ]
     },
     "execution_count": 96,
     "metadata": {},
     "output_type": "execute_result"
    }
   ],
   "source": [
    "print('\\n\\n****************************    Original    ****************************')\n",
    "\n",
    "perf_df_no_tuning.set_index([['SVM', 'KNN', 'Naive Bayes', 'Logistic', 'DBSCAN', 'K Means', 'LDA', 'FCM']], inplace=True)\n",
    "perf_df_no_tuning"
   ]
  },
  {
   "cell_type": "code",
   "execution_count": null,
   "metadata": {},
   "outputs": [],
   "source": []
  }
 ],
 "metadata": {
  "kernelspec": {
   "display_name": "Python 3",
   "language": "python",
   "name": "python3"
  },
  "language_info": {
   "codemirror_mode": {
    "name": "ipython",
    "version": 3
   },
   "file_extension": ".py",
   "mimetype": "text/x-python",
   "name": "python",
   "nbconvert_exporter": "python",
   "pygments_lexer": "ipython3",
   "version": "3.7.3"
  }
 },
 "nbformat": 4,
 "nbformat_minor": 2
}
